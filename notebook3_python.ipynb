{
 "cells": [
  {
   "cell_type": "markdown",
   "metadata": {},
   "source": [
    "## Python3 code tips, tricks, snippets. Basic and some\n",
    "## advanced features."
   ]
  },
  {
   "cell_type": "code",
   "execution_count": null,
   "metadata": {},
   "outputs": [],
   "source": [
    "#understanding variable assignments in memory\n",
    "tech = ['C++', 'Swift', 'Python', ['html', 'css', 'Javascript',['Go','Objective_C'],'Rust']]\n",
    "learning = tech[:]\n",
    "\n",
    "print(id(learning[-1]), id(tech[-1]))\n",
    "learning[-1][-1] = 'pictures'\n",
    "print(tech)"
   ]
  },
  {
   "cell_type": "code",
   "execution_count": null,
   "metadata": {},
   "outputs": [],
   "source": [
    "# This is a slice of the sublist of learning = ('gifs') \n",
    "#from the upper list of ['html', 'css', 'Javascript']\n",
    "print(tech[3][4])\n",
    "print(id(learning[-1]), id(tech[-1]))"
   ]
  },
  {
   "cell_type": "code",
   "execution_count": 24,
   "metadata": {},
   "outputs": [
    {
     "data": {
      "text/plain": [
       "'u'"
      ]
     },
     "execution_count": 24,
     "metadata": {},
     "output_type": "execute_result"
    }
   ],
   "source": [
    "# slice a letter from a list inside a sublist inside a sublist\n",
    "tech2 = ['C++', 'Swift', 'Python', ['html', 'css', 'Javascript',\n",
    "        ['Go', 'Objective_C', ['software_developer', \n",
    "        ['Data_Science', 'Guru'], 'Linux']], 'Rust']]\n",
    "tech2[3][3][2][1][1][-1]"
   ]
  },
  {
   "cell_type": "code",
   "execution_count": null,
   "metadata": {},
   "outputs": [],
   "source": [
    "#check for an empty list\n",
    "data = []\n",
    "print(not data)\n"
   ]
  },
  {
   "cell_type": "code",
   "execution_count": null,
   "metadata": {},
   "outputs": [],
   "source": [
    "data2 = None\n",
    "print(not data2)"
   ]
  },
  {
   "cell_type": "code",
   "execution_count": null,
   "metadata": {},
   "outputs": [],
   "source": [
    "# all variables defined in local scope\n",
    "#print(locals())\n",
    "# the variables defined in global list, note: list may be very long\n",
    "#print(globals())\n",
    "data = []\n",
    "print('data' in locals(), 'data' in globals())"
   ]
  },
  {
   "cell_type": "code",
   "execution_count": null,
   "metadata": {},
   "outputs": [],
   "source": [
    "def func():\n",
    "    data = []\n",
    "    print('data' in locals(), 'data' in globals())\n",
    "func()"
   ]
  },
  {
   "cell_type": "code",
   "execution_count": 25,
   "metadata": {},
   "outputs": [
    {
     "name": "stdout",
     "output_type": "stream",
     "text": [
      "Name:      Age:     Favorite Language:        Job:          Cellphone #:        Email:           Preffered Communication:\n",
      "John Rambo 52 ['C++', 'Python', 'Ruby'] ['133t hacker'] ['800-killforfun'] [\"I don't do email\"] ['text me']\n"
     ]
    }
   ],
   "source": [
    "# print different variables in 1 line\n",
    "print('Name:      Age:     Favorite Language:        Job:          Cellphone #:        Email:           Preffered Communication:')\n",
    "name = \"John Rambo\"\n",
    "age = 52\n",
    "favorite_languages = ['C++', 'Python', 'Ruby']\n",
    "occupation = ['133t hacker']\n",
    "phone_number = ['800-killforfun']\n",
    "email = [\"I don't do email\"]\n",
    "preffered_comm = ['text me']\n",
    "print(name, age, favorite_languages, occupation, phone_number, email, preffered_comm)\n"
   ]
  },
  {
   "cell_type": "code",
   "execution_count": 27,
   "metadata": {},
   "outputs": [
    {
     "name": "stdout",
     "output_type": "stream",
     "text": [
      "John 47 C++ Scala\n"
     ]
    }
   ],
   "source": [
    "name = \"John\"\n",
    "age = 47\n",
    "favorite_languages = ['C++', 'Python', 'Ruby', 'Perl', 'Java', 'Objective_C']\n",
    "new_favorite = ['Go', 'Kotlin', 'Rust', 'Julia', 'Keras', 'Scala']\n",
    "msg = name + \" \" + str(age) + \" \" + \\\n",
    "    favorite_languages[0] + \" \" + new_favorite[5]\n",
    "print(msg)"
   ]
  },
  {
   "cell_type": "code",
   "execution_count": 28,
   "metadata": {},
   "outputs": [
    {
     "name": "stdout",
     "output_type": "stream",
     "text": [
      "John is 47 years old and loves Python and Go.\n"
     ]
    }
   ],
   "source": [
    "name = \"John\"\n",
    "age = 47\n",
    "favorite_languages = ['C++', 'Python']\n",
    "new_favorite = ['Go', 'Kotlin', 'Rust', 'Julia']\n",
    "msg = f'{name} is {age} years old and loves {favorite_languages[1]} and {new_favorite[0]}.'\n",
    "print(msg)"
   ]
  },
  {
   "cell_type": "code",
   "execution_count": null,
   "metadata": {},
   "outputs": [],
   "source": [
    "# user  and admin escalation\n",
    "reputation = 2\n",
    "status = None\n",
    "status = \"admin\" if reputation > 15 else \"user\"\n",
    "print(status)"
   ]
  },
  {
   "cell_type": "code",
   "execution_count": null,
   "metadata": {},
   "outputs": [],
   "source": [
    "reputation = 7\n",
    "#status = None\n",
    "if reputation >= 20:\n",
    "    print(\"Boss\")\n",
    "elif reputation >= 15:\n",
    "    print(\"admin\")\n",
    "else:\n",
    "    print(\"user\")\n",
    "print(reputation)"
   ]
  },
  {
   "cell_type": "code",
   "execution_count": null,
   "metadata": {},
   "outputs": [],
   "source": [
    "pets = ['dog', 'cat', 'horse', 'penguin']\n",
    "if 'cat' in pets:\n",
    "    print('Cat exists')\n",
    "\n",
    "\n",
    "pets2 = ['dog', 'dog', 'cat', 'bird', 'chicken', 'dog']\n",
    "if 'cat' in pets2:\n",
    "    print(\"nope, can't have a cat\")\n",
    "has_cats = False\n",
    "for pet in pets:\n",
    "    print(pet)\n",
    "    if pet == \"cat\":\n",
    "        has_cats = True\n",
    "        break\n",
    "        \n",
    "if has_cats:\n",
    "    print(\"no cats allowed sorry\")\n",
    "pets.remove('cat')\n",
    "for pet in pets:\n",
    "    \n",
    "    print(pet)\n",
    "    if pet == \"cat\":\n",
    "        break\n",
    "else:\n",
    "    print(\"OK, we're good\")"
   ]
  },
  {
   "cell_type": "code",
   "execution_count": 29,
   "metadata": {},
   "outputs": [
    {
     "name": "stdout",
     "output_type": "stream",
     "text": [
      "dog\n",
      "we are good no cats!\n",
      "horse\n",
      "we are good no cats!\n",
      "penguin\n",
      "we are good no cats!\n"
     ]
    }
   ],
   "source": [
    "# My first real attempt to shorten Python code\n",
    "pets = ['dog', 'cat', 'horse', 'penguin']\n",
    "pets.remove('cat')\n",
    "for pet in pets:\n",
    "    print(pet)\n",
    "    if pet == \"cat\":\n",
    "        #has_cats = True\n",
    "        break\n",
    "# if cat in pets:\n",
    "#      break\n",
    "    else:\n",
    "        print(\"we are good no cats!\")"
   ]
  },
  {
   "cell_type": "code",
   "execution_count": null,
   "metadata": {},
   "outputs": [],
   "source": [
    "#Another if x in example\n",
    "if 'horse' in ('dog', 'cat', 'horse', 'penguin'):\n",
    "    print('horse exists')\n",
    "if 'cat' in ('dog', 'cat', 'sheep'):\n",
    "    print('cat exist')\n",
    "if 'sheep' not in ('dog', 'cat', 'horse', 'penguin'):\n",
    "    print('sheep does not exist')"
   ]
  },
  {
   "cell_type": "code",
   "execution_count": null,
   "metadata": {},
   "outputs": [],
   "source": [
    "#print a range\n",
    "print(list(range(28)))\n",
    "print(type(range(28)))\n",
    "print(list(range(14, 60, 2)))"
   ]
  },
  {
   "cell_type": "code",
   "execution_count": null,
   "metadata": {},
   "outputs": [],
   "source": [
    "#second attempt at coding my own cell, WTF is this binary output?\n",
    "for x in range(28):\n",
    "    print(int(x%2))"
   ]
  },
  {
   "cell_type": "code",
   "execution_count": null,
   "metadata": {},
   "outputs": [],
   "source": [
    "for i in range(10):\n",
    "    print(i)"
   ]
  },
  {
   "cell_type": "code",
   "execution_count": null,
   "metadata": {},
   "outputs": [],
   "source": [
    "# Too many dogs\n",
    "pets = ['dog','dog', 'cat', 'bird', 'chickens', 'dog']\n",
    "print(set(pets))\n",
    "print(list(set(pets)))"
   ]
  },
  {
   "cell_type": "code",
   "execution_count": 19,
   "metadata": {},
   "outputs": [
    {
     "name": "stdout",
     "output_type": "stream",
     "text": [
      "dog 0\n",
      "dog 1\n",
      "cat 2\n",
      "bird 3\n",
      "chickens 4\n",
      "dog 5\n",
      "cat 6\n",
      "iguana 7\n"
     ]
    }
   ],
   "source": [
    "# enumerate pets\n",
    "pets = ['dog','dog', 'cat', 'bird', 'chickens', 'dog', 'cat', 'iguana']\n",
    "for i, pet in enumerate(pets):\n",
    "    print(pet, i)"
   ]
  },
  {
   "cell_type": "code",
   "execution_count": null,
   "metadata": {},
   "outputs": [],
   "source": [
    "# bad way but seems easier to me\n",
    "weather = \"sunshine\"\n",
    "if weather == 'rainy' or weather == 'stormy' or weather == 'snow':\n",
    "    print(\"canceled til further notice\")\n",
    "else:\n",
    "    print(\"It's party time\")"
   ]
  },
  {
   "cell_type": "code",
   "execution_count": 31,
   "metadata": {},
   "outputs": [
    {
     "name": "stdout",
     "output_type": "stream",
     "text": [
      "Sorry We're Closed!\n"
     ]
    }
   ],
   "source": [
    "weather = 'crappy'\n",
    "if weather in ['rainy', 'stormy', 'crappy', 'snowy', 'tornado', 'hurricane', 'we gonna die']:\n",
    "    print(\"Sorry We're Closed!\")\n",
    "else:\n",
    "    print(\"50% off SALE!!!\")"
   ]
  },
  {
   "cell_type": "code",
   "execution_count": 21,
   "metadata": {},
   "outputs": [
    {
     "name": "stdout",
     "output_type": "stream",
     "text": [
      "standard user\n"
     ]
    }
   ],
   "source": [
    "# Meets conditions? Evil Boss\n",
    "# Requirements scoring \n",
    "# age >= 18\n",
    "# repution = 1 - 100\n",
    "# appearance = 1 - 10\n",
    "# talks_alot = 1 - 10\n",
    "# hard_worker = 1 - 10\n",
    "# hot_chick = 1 - 10\n",
    "# knowledge = 1 - 10\n",
    "# Boot_licker = 1 - 10\n",
    "# Needs_Firing = 1 - 10\n",
    "#=====================================================================================\n",
    "# Worker Stats\n",
    "age = 21\n",
    "reputation = 70 # 1 - 100\n",
    "appearance = 7\n",
    "talks_alot = 2\n",
    "hard_worker = 10\n",
    "hot_chick = 0\n",
    "knowledge = 7\n",
    "python_genius = 3\n",
    "the_snitch = 0\n",
    "needs_firing = 0\n",
    "#======================================================================================\n",
    "# Do not change conditions below, unless you are the Tech lead.\n",
    "# status = None\n",
    "# status = \"admin\" if reputation > 20 else \"standard user\"\n",
    "# print(status)\n",
    "\n",
    "conditions= [\n",
    "    age >= 18,\n",
    "    reputation >= 90,\n",
    "    appearance >= 3,\n",
    "    talks_alot <= 7,\n",
    "    hard_worker >= 2,\n",
    "    hot_chick >= 9,\n",
    "    knowledge >= 8,\n",
    "    the_snitch >= 9,\n",
    "    needs_firing <= 8,\n",
    "    python_genius >= 10,\n",
    "]\n",
    "\n",
    "if all(conditions):\n",
    "    print(\"admin\")\n",
    "elif python_genius >= 10:\n",
    "    print(\"Cheif Technology Officer\")\n",
    "elif python_genius >= 8:\n",
    "    print(\"Tech Lead\")\n",
    "elif talks_alot >= 10:\n",
    "    print(\"Please report to HR and hand in your badge, have a nice day.\")\n",
    "elif knowledge >= 9:\n",
    "    print(\"admin\")\n",
    "elif hot_chick >= 9:\n",
    "    print(\"Personal Secretary\")\n",
    "elif the_snitch >= 8:\n",
    "    print(\"We'll keep around as a snitch.\")\n",
    "elif needs_firing >= 10:\n",
    "    print(\"Please report to HR and hand in your badge, have a nice day.\")\n",
    "elif reputation >= 90:\n",
    "    print(\"Qualifies for admin or higher\")\n",
    "else:\n",
    "    print(\"standard user\")"
   ]
  },
  {
   "cell_type": "code",
   "execution_count": 30,
   "metadata": {},
   "outputs": [
    {
     "name": "stdout",
     "output_type": "stream",
     "text": [
      "Choose an option:\n",
      "1. play game\n",
      "2. load game\n",
      "3. high scores\n",
      "4. quit\n",
      "\n",
      "4\n"
     ]
    }
   ],
   "source": [
    "#while loops\n",
    "while True:\n",
    "    print('''Choose an option:\n",
    "1. play game\n",
    "2. load game\n",
    "3. high scores\n",
    "4. quit\n",
    "''')\n",
    "    if input() == '4':\n",
    "        break"
   ]
  },
  {
   "cell_type": "code",
   "execution_count": 15,
   "metadata": {},
   "outputs": [
    {
     "name": "stdout",
     "output_type": "stream",
     "text": [
      "do something...\n",
      "done\n"
     ]
    }
   ],
   "source": [
    "#function example\n",
    "def done():\n",
    "    print(\"done\")\n",
    "def do_something(func):\n",
    "    print(\"do something...\")\n",
    "    func()\n",
    "    \n",
    "do_something(done)"
   ]
  },
  {
   "cell_type": "code",
   "execution_count": 18,
   "metadata": {},
   "outputs": [
    {
     "name": "stdout",
     "output_type": "stream",
     "text": [
      "loading......\n",
      "done\n"
     ]
    }
   ],
   "source": [
    "#function example loading... \n",
    "import time\n",
    "\n",
    "def done():\n",
    "    print(\"done\")\n",
    "def do_something(func):\n",
    "    print(\"loading......\")\n",
    "    time.sleep(8)\n",
    "    func()\n",
    "do_something(done)"
   ]
  },
  {
   "cell_type": "code",
   "execution_count": 22,
   "metadata": {},
   "outputs": [
    {
     "name": "stdout",
     "output_type": "stream",
     "text": [
      "[1, 2, 3, 4, 5, 6, 7, 8, 9, 10, 'flowers, and rainbows']\n"
     ]
    }
   ],
   "source": [
    "# Remove a nested list\n",
    "pairs = [[1, 2], [3, 4], [5, 6, 7, 8, 9, 10], ['flowers, and rainbows']]\n",
    "flat = []\n",
    "for pair in pairs:\n",
    "    for item in pair:\n",
    "        flat.append(item)\n",
    "        \n",
    "print(flat)"
   ]
  },
  {
   "cell_type": "code",
   "execution_count": 23,
   "metadata": {},
   "outputs": [
    {
     "name": "stdout",
     "output_type": "stream",
     "text": [
      "[1, 2, 3, 4, 5, 6, 7, 8, 9, 10, 'flowers, and rainbows']\n"
     ]
    }
   ],
   "source": [
    "# better way to do the above is with a list comprehension\n",
    "pairs = [[1, 2], [3, 4], [5, 6, 7, 8, 9, 10], ['flowers, and rainbows']]\n",
    "flat = [item for pair in pairs for item in pair]\n",
    "print(flat)"
   ]
  },
  {
   "cell_type": "code",
   "execution_count": 1,
   "metadata": {},
   "outputs": [
    {
     "name": "stdout",
     "output_type": "stream",
     "text": [
      "23:59:59.001000\n",
      "2020-12-06\n",
      "2020-12-06 17:46:21.892278\n"
     ]
    }
   ],
   "source": [
    "# Datetime in Python\n",
    "import datetime\n",
    "date1 = datetime.date(2021, 12, 3)\n",
    "year = 2021\n",
    "month = 12\n",
    "day = 3\n",
    "\n",
    "date2 = datetime.date(year, month, day)\n",
    "time1 = datetime.time(23, 59, 59, 1000)\n",
    "print(time1)\n",
    "\n",
    "time1.hour\n",
    "time1.minute\n",
    "time1.second\n",
    "\n",
    "dt = datetime.datetime(2016, 10, 23)\n",
    "#Today\n",
    "d1 = datetime.date.today()\n",
    "print(d1)\n",
    "\n",
    "d3 = datetime.datetime.today()\n",
    "print(d3)"
   ]
  },
  {
   "cell_type": "code",
   "execution_count": 10,
   "metadata": {},
   "outputs": [
    {
     "data": {
      "text/plain": [
       "datetime.timedelta(days=11, seconds=3600)"
      ]
     },
     "execution_count": 10,
     "metadata": {},
     "output_type": "execute_result"
    }
   ],
   "source": [
    "\n",
    "from datetime import date, time, datetime, timedelta\n",
    "date1 = datetime(2017, 11, 20, 1)\n",
    "date2 = datetime(2017, 11, 10)\n",
    "one_day = timedelta(days=1)\n",
    "date1 - date2 + one_day"
   ]
  },
  {
   "cell_type": "code",
   "execution_count": 14,
   "metadata": {},
   "outputs": [
    {
     "name": "stdout",
     "output_type": "stream",
     "text": [
      "False\n"
     ]
    }
   ],
   "source": [
    "one_day = timedelta(days=1)\n",
    "date1 - date2 + one_day\n",
    "one_month = timedelta(days=30)\n",
    "t_date = datetime(2020, 11, 1)\n",
    "today = datetime.today()\n",
    "if (today - t_date) <= one_month:\n",
    "    print(\"True\")\n",
    "else:\n",
    "    print(\"False\")\n",
    "    "
   ]
  },
  {
   "cell_type": "code",
   "execution_count": 16,
   "metadata": {},
   "outputs": [
    {
     "data": {
      "text/plain": [
       "datetime.timedelta(days=2, seconds=43200)"
      ]
     },
     "execution_count": 16,
     "metadata": {},
     "output_type": "execute_result"
    }
   ],
   "source": [
    "# Division of time delta\n",
    "from datetime import date, time, datetime, timedelta\n",
    "one_month = timedelta(days=30)\n",
    "one_month /10\n",
    "one_month /12\n"
   ]
  },
  {
   "cell_type": "code",
   "execution_count": 32,
   "metadata": {},
   "outputs": [
    {
     "data": {
      "text/plain": [
       "'09:45:19 PM'"
      ]
     },
     "execution_count": 32,
     "metadata": {},
     "output_type": "execute_result"
    }
   ],
   "source": [
    "from datetime import datetime\n",
    "date1 = datetime(2020, 12, 3, 21, 45, 19)\n",
    "str(date1)\n",
    "# dd-mm-yyyy format\n",
    "#datetime.strftime(date1, '%m-%d-%Y')\n",
    "#datetime.strftime(date1, '%H:%M:%S')\n",
    "datetime.strftime(date1, '%I:%M:%S %p')"
   ]
  },
  {
   "cell_type": "code",
   "execution_count": 1,
   "metadata": {},
   "outputs": [
    {
     "name": "stdout",
     "output_type": "stream",
     "text": [
      "55\n"
     ]
    }
   ],
   "source": [
    "#lambdas anonymouse, single-use, or throw-away functions\n",
    "add5 = lambda x: x + 5\n",
    "print(add5(50))"
   ]
  },
  {
   "cell_type": "code",
   "execution_count": 2,
   "metadata": {},
   "outputs": [
    {
     "name": "stdout",
     "output_type": "stream",
     "text": [
      "64\n"
     ]
    }
   ],
   "source": [
    "square = lambda x: x * x\n",
    "print(square(8))"
   ]
  },
  {
   "cell_type": "code",
   "execution_count": 3,
   "metadata": {},
   "outputs": [
    {
     "name": "stdout",
     "output_type": "stream",
     "text": [
      "4\n",
      "3\n"
     ]
    }
   ],
   "source": [
    "get_tens = lambda p: int(p/10)%10\n",
    "print(get_tens(749))\n",
    "print(get_tens(836.21))"
   ]
  },
  {
   "cell_type": "code",
   "execution_count": 1,
   "metadata": {},
   "outputs": [
    {
     "name": "stdout",
     "output_type": "stream",
     "text": [
      "bark\n",
      "<class '__main__.Dog'>\n"
     ]
    }
   ],
   "source": [
    "# Object Oriented Programming in Python for beginners\n",
    "class Dog:\n",
    "    def bark(self):\n",
    "        print(\"bark\")\n",
    "d = Dog()\n",
    "d.bark()\n",
    "print(type(d))\n"
   ]
  },
  {
   "cell_type": "code",
   "execution_count": 8,
   "metadata": {},
   "outputs": [
    {
     "name": "stdout",
     "output_type": "stream",
     "text": [
      "Buster\n",
      "Buddy\n",
      "bark\n",
      "<class '__main__.Dog'>\n",
      "2\n"
     ]
    }
   ],
   "source": [
    "class Dog:\n",
    "    def __init__(self, name):\n",
    "        self.name = name\n",
    "        \n",
    "    def add_dog(self, x):\n",
    "        return x + 1\n",
    "    \n",
    "    def bark(self):\n",
    "        print(\"bark\")\n",
    "d = Dog(\"Buster\")\n",
    "print(d.name)\n",
    "d2 = Dog(\"Buddy\")\n",
    "print(d2.name)\n",
    "d.bark()\n",
    "print(type(d))\n",
    "print(d.add_dog(1))\n",
    "\n"
   ]
  },
  {
   "cell_type": "code",
   "execution_count": 12,
   "metadata": {},
   "outputs": [
    {
     "name": "stdout",
     "output_type": "stream",
     "text": [
      "Buster 34\n",
      "Buddy\n"
     ]
    }
   ],
   "source": [
    "# OOP beginner level, getter\n",
    "class Dog:\n",
    "    def __init__(self, name, age):\n",
    "        self.name = name\n",
    "        self.age = age\n",
    "    def get_name(self):\n",
    "        return self.name\n",
    "d = Dog(\"Buster\", 34)\n",
    "print(d.name, d.age)\n",
    "d2 = Dog(\"Buddy\", 12)\n",
    "print(d2.get_name())"
   ]
  },
  {
   "cell_type": "code",
   "execution_count": 2,
   "metadata": {},
   "outputs": [
    {
     "name": "stdout",
     "output_type": "stream",
     "text": [
      "2020-12-06 17:48:09.942404\n",
      "Computer_Science\n",
      "Class Failures: \n",
      "Jennifer\n",
      "Class Valedictorian\n",
      "Jason\n",
      "Class Average Grade: \n",
      "80.0\n"
     ]
    }
   ],
   "source": [
    "#multiple classes\n",
    "import datetime\n",
    "\n",
    "class Student:\n",
    "    def __init__(self, name, age, grade):\n",
    "        self.name = name\n",
    "        self.age = age\n",
    "        self.grade = grade # 0 - 100\n",
    "    def get_grade(self):\n",
    "        return self.grade\n",
    "class Course:\n",
    "    def __init__(self, name, max_students):\n",
    "        self.name = name\n",
    "        self.max_students = max_students\n",
    "        self.students = []\n",
    "        \n",
    "    def add_student(self, student):\n",
    "        if len(self. students) < self.max_students:\n",
    "            self.students.append(student)\n",
    "            return True\n",
    "        return False\n",
    "    def get_average_grade(self):\n",
    "        value = 0\n",
    "        for student in self.students:\n",
    "            value += student.get_grade()\n",
    "        return value / len(self.students)\n",
    "    \n",
    "s1 = Student(\"Jason\", 19, 98)\n",
    "s2 = Student(\"Jack\", 19, 75)\n",
    "s3 = Student(\"Jennifer\", 29, 67)\n",
    "course = Course(\"Computer_Science\", 3)\n",
    "course.add_student(s1)\n",
    "course.add_student(s2)\n",
    "course.add_student(s3)\n",
    "d3 = datetime.datetime.today()\n",
    "print(d3)\n",
    "print(course.name)\n",
    "print(\"Class Failures: \")\n",
    "print(course.students[2].name)\n",
    "print(\"Class Valedictorian\")\n",
    "print(course.students[0].name)\n",
    "print(\"Class Average Grade: \")\n",
    "print(course.get_average_grade())\n",
    "\n",
    "    \n",
    "\n",
    "        \n",
    "        "
   ]
  },
  {
   "cell_type": "code",
   "execution_count": 30,
   "metadata": {},
   "outputs": [],
   "source": [
    "\n",
    "#Reading a csv file\n",
    "import pandas as pd\n"
   ]
  },
  {
   "cell_type": "code",
   "execution_count": 31,
   "metadata": {},
   "outputs": [],
   "source": [
    "# Reading a csv file\n",
    "csvdata = pd.read_csv('/home/neziakl1/Desktop/git_public/blog_data.csv')\n",
    "# another path example:\n",
    "#csvdata= pd.read_csv('D:/folder_name/csv_file.csv')\n"
   ]
  },
  {
   "cell_type": "code",
   "execution_count": 32,
   "metadata": {},
   "outputs": [
    {
     "data": {
      "text/html": [
       "<div>\n",
       "<style scoped>\n",
       "    .dataframe tbody tr th:only-of-type {\n",
       "        vertical-align: middle;\n",
       "    }\n",
       "\n",
       "    .dataframe tbody tr th {\n",
       "        vertical-align: top;\n",
       "    }\n",
       "\n",
       "    .dataframe thead th {\n",
       "        text-align: right;\n",
       "    }\n",
       "</style>\n",
       "<table border=\"1\" class=\"dataframe\">\n",
       "  <thead>\n",
       "    <tr style=\"text-align: right;\">\n",
       "      <th></th>\n",
       "      <th>title</th>\n",
       "      <th>link</th>\n",
       "      <th>date</th>\n",
       "    </tr>\n",
       "  </thead>\n",
       "  <tbody>\n",
       "    <tr>\n",
       "      <th>0</th>\n",
       "      <td>Dealing With Imposter Syndrome</td>\n",
       "      <td>/blog/dealing-with-coding-bootcamp-imposter-sy...</td>\n",
       "      <td>{'pubdate': '', 'datetime': '2020-10-22 17:49:...</td>\n",
       "    </tr>\n",
       "    <tr>\n",
       "      <th>1</th>\n",
       "      <td>Alumni Spotlight: Genna Mergola</td>\n",
       "      <td>/blog/alumni-spotlight-genna-mergola</td>\n",
       "      <td>{'pubdate': '', 'datetime': '2020-10-14 21:37:...</td>\n",
       "    </tr>\n",
       "    <tr>\n",
       "      <th>2</th>\n",
       "      <td>Four Software Engineering Portfolio Protips</td>\n",
       "      <td>/blog/four-portfolio-software-engineering-protips</td>\n",
       "      <td>{'pubdate': '', 'datetime': '2020-09-24 20:44:...</td>\n",
       "    </tr>\n",
       "    <tr>\n",
       "      <th>3</th>\n",
       "      <td>How To Get Into A Top Coding Bootcamp</td>\n",
       "      <td>/blog/how-to-get-into-top-coding-bootcamp-rith...</td>\n",
       "      <td>{'pubdate': '', 'datetime': '2020-09-22 19:11:...</td>\n",
       "    </tr>\n",
       "    <tr>\n",
       "      <th>4</th>\n",
       "      <td>Taking Breaks: Why Being Busy Doesn't Equal Pr...</td>\n",
       "      <td>/blog/taking-breaks-for-productivity</td>\n",
       "      <td>{'pubdate': '', 'datetime': '2020-08-19 21:24:...</td>\n",
       "    </tr>\n",
       "  </tbody>\n",
       "</table>\n",
       "</div>"
      ],
      "text/plain": [
       "                                               title  \\\n",
       "0                     Dealing With Imposter Syndrome   \n",
       "1                    Alumni Spotlight: Genna Mergola   \n",
       "2        Four Software Engineering Portfolio Protips   \n",
       "3              How To Get Into A Top Coding Bootcamp   \n",
       "4  Taking Breaks: Why Being Busy Doesn't Equal Pr...   \n",
       "\n",
       "                                                link  \\\n",
       "0  /blog/dealing-with-coding-bootcamp-imposter-sy...   \n",
       "1               /blog/alumni-spotlight-genna-mergola   \n",
       "2  /blog/four-portfolio-software-engineering-protips   \n",
       "3  /blog/how-to-get-into-top-coding-bootcamp-rith...   \n",
       "4               /blog/taking-breaks-for-productivity   \n",
       "\n",
       "                                                date  \n",
       "0  {'pubdate': '', 'datetime': '2020-10-22 17:49:...  \n",
       "1  {'pubdate': '', 'datetime': '2020-10-14 21:37:...  \n",
       "2  {'pubdate': '', 'datetime': '2020-09-24 20:44:...  \n",
       "3  {'pubdate': '', 'datetime': '2020-09-22 19:11:...  \n",
       "4  {'pubdate': '', 'datetime': '2020-08-19 21:24:...  "
      ]
     },
     "execution_count": 32,
     "metadata": {},
     "output_type": "execute_result"
    }
   ],
   "source": [
    "\n",
    "csvdata.head()"
   ]
  },
  {
   "cell_type": "code",
   "execution_count": 29,
   "metadata": {
    "scrolled": true
   },
   "outputs": [
    {
     "name": "stdout",
     "output_type": "stream",
     "text": [
      "current directory\n",
      "/home/neziakl1/Desktop/git_public\n"
     ]
    }
   ],
   "source": [
    "# Print current working directory in my case it's: /home/neziakl1/Desktop/git_public\n",
    "import os\n",
    "print('current directory')\n",
    "print(os.getcwd())"
   ]
  },
  {
   "cell_type": "code",
   "execution_count": 33,
   "metadata": {},
   "outputs": [],
   "source": [
    "# Reading a text file into Jupyter Notebook\n",
    "import pandas as pd\n",
    "txtdata = pd.read_table('/home/neziakl1/Desktop/src/haiku.txt', sep=';')"
   ]
  },
  {
   "cell_type": "code",
   "execution_count": 34,
   "metadata": {},
   "outputs": [
    {
     "data": {
      "text/html": [
       "<div>\n",
       "<style scoped>\n",
       "    .dataframe tbody tr th:only-of-type {\n",
       "        vertical-align: middle;\n",
       "    }\n",
       "\n",
       "    .dataframe tbody tr th {\n",
       "        vertical-align: top;\n",
       "    }\n",
       "\n",
       "    .dataframe thead th {\n",
       "        text-align: right;\n",
       "    }\n",
       "</style>\n",
       "<table border=\"1\" class=\"dataframe\">\n",
       "  <thead>\n",
       "    <tr style=\"text-align: right;\">\n",
       "      <th></th>\n",
       "      <th>Added using r+  great</th>\n",
       "    </tr>\n",
       "  </thead>\n",
       "  <tbody>\n",
       "    <tr>\n",
       "      <th>0</th>\n",
       "      <td>Here's another line of text</td>\n",
       "    </tr>\n",
       "    <tr>\n",
       "      <th>1</th>\n",
       "      <td>I like writing intoo filezz</td>\n",
       "    </tr>\n",
       "    <tr>\n",
       "      <th>2</th>\n",
       "      <td>Closing now, goodbye!I'm baaaaaack sucka!!!</td>\n",
       "    </tr>\n",
       "    <tr>\n",
       "      <th>3</th>\n",
       "      <td>NOTE: r+ will only let you write to an EXISTIN...</td>\n",
       "    </tr>\n",
       "    <tr>\n",
       "      <th>4</th>\n",
       "      <td>A AND W WILL ALLOW TO CREATE A NEW FILE</td>\n",
       "    </tr>\n",
       "  </tbody>\n",
       "</table>\n",
       "</div>"
      ],
      "text/plain": [
       "                               Added using r+  great\n",
       "0                        Here's another line of text\n",
       "1                        I like writing intoo filezz\n",
       "2        Closing now, goodbye!I'm baaaaaack sucka!!!\n",
       "3  NOTE: r+ will only let you write to an EXISTIN...\n",
       "4            A AND W WILL ALLOW TO CREATE A NEW FILE"
      ]
     },
     "execution_count": 34,
     "metadata": {},
     "output_type": "execute_result"
    }
   ],
   "source": [
    "txtdata.head()"
   ]
  },
  {
   "cell_type": "code",
   "execution_count": null,
   "metadata": {},
   "outputs": [],
   "source": []
  }
 ],
 "metadata": {
  "kernelspec": {
   "display_name": "Python 3",
   "language": "python",
   "name": "python3"
  },
  "language_info": {
   "codemirror_mode": {
    "name": "ipython",
    "version": 3
   },
   "file_extension": ".py",
   "mimetype": "text/x-python",
   "name": "python",
   "nbconvert_exporter": "python",
   "pygments_lexer": "ipython3",
   "version": "3.8.5"
  }
 },
 "nbformat": 4,
 "nbformat_minor": 4
}

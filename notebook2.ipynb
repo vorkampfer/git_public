{
 "cells": [
  {
   "cell_type": "markdown",
   "metadata": {},
   "source": [
    "## Python3: Beginner level, Tuples, Sets, Lists,\n",
    "## Dictionaries, Variables, Iterables, For loops, \n",
    "## Try:Except  Blocks, While loops, functions (def), etc..."
   ]
  },
  {
   "cell_type": "code",
   "execution_count": 1,
   "metadata": {},
   "outputs": [
    {
     "name": "stdout",
     "output_type": "stream",
     "text": [
      "a\n",
      "b\n",
      "c\n",
      "10\n"
     ]
    }
   ],
   "source": [
    "for x in ('a', 'b', 'c', 10):\n",
    "    print(x)"
   ]
  },
  {
   "cell_type": "code",
   "execution_count": 2,
   "metadata": {},
   "outputs": [
    {
     "name": "stdout",
     "output_type": "stream",
     "text": [
      "(1, 2)\n",
      "(3, 4)\n",
      "(5, 6)\n"
     ]
    }
   ],
   "source": [
    "for x in [(1, 2), (3, 4), (5, 6)]:\n",
    "    print(x)"
   ]
  },
  {
   "cell_type": "code",
   "execution_count": 3,
   "metadata": {},
   "outputs": [
    {
     "name": "stdout",
     "output_type": "stream",
     "text": [
      "0\n",
      "1\n",
      "2\n",
      "4\n"
     ]
    }
   ],
   "source": [
    "for i in range(5):\n",
    "    if i == 3:\n",
    "        continue\n",
    "    print(i)\n"
   ]
  },
  {
   "cell_type": "code",
   "execution_count": 4,
   "metadata": {},
   "outputs": [
    {
     "name": "stdout",
     "output_type": "stream",
     "text": [
      "1\n",
      "2\n",
      "3\n",
      "4\n",
      "no multiple of 7 in this range\n"
     ]
    }
   ],
   "source": [
    "for i in range(1, 5):\n",
    "    print(i)\n",
    "    if i % 7 == 0:\n",
    "        print('multiple of 7 found')\n",
    "        break\n",
    "else:\n",
    "    print('no multiple of 7 in this range')"
   ]
  },
  {
   "cell_type": "code",
   "execution_count": 5,
   "metadata": {},
   "outputs": [
    {
     "name": "stdout",
     "output_type": "stream",
     "text": [
      "h\n",
      "e\n",
      "l\n",
      "l\n",
      "o\n"
     ]
    }
   ],
   "source": [
    "s = 'hello'\n",
    "for c in s:\n",
    "    print(c)"
   ]
  },
  {
   "cell_type": "code",
   "execution_count": 6,
   "metadata": {},
   "outputs": [
    {
     "name": "stdout",
     "output_type": "stream",
     "text": [
      "0 h\n",
      "1 e\n",
      "2 l\n",
      "3 l\n",
      "4 o\n"
     ]
    }
   ],
   "source": [
    "s = 'hello'\n",
    "i = 0\n",
    "for c in s:\n",
    "    print(i, c)\n",
    "    i += 1"
   ]
  },
  {
   "cell_type": "code",
   "execution_count": 7,
   "metadata": {},
   "outputs": [
    {
     "name": "stdout",
     "output_type": "stream",
     "text": [
      "0 h\n",
      "1 e\n",
      "2 l\n",
      "3 l\n",
      "4 o\n"
     ]
    }
   ],
   "source": [
    "s = 'hello'\n",
    "\n",
    "for i in range(len(s)):\n",
    "    print(i, s[i])"
   ]
  },
  {
   "cell_type": "code",
   "execution_count": 8,
   "metadata": {},
   "outputs": [
    {
     "name": "stdout",
     "output_type": "stream",
     "text": [
      "0 h\n",
      "1 e\n",
      "2 l\n",
      "3 l\n",
      "4 o\n"
     ]
    }
   ],
   "source": [
    "s = 'hello'\n",
    "\n",
    "for i, c in enumerate(s):\n",
    "    print(i, c)"
   ]
  },
  {
   "cell_type": "code",
   "execution_count": 9,
   "metadata": {},
   "outputs": [
    {
     "name": "stdout",
     "output_type": "stream",
     "text": [
      "0x55eea0eacf00\n"
     ]
    }
   ],
   "source": [
    "#Every object aka variable defined is allocated a slot in\n",
    "#memory called the Heap\n",
    "variable = 15\n",
    "print(hex(id(variable)))"
   ]
  },
  {
   "cell_type": "code",
   "execution_count": 10,
   "metadata": {},
   "outputs": [
    {
     "name": "stdout",
     "output_type": "stream",
     "text": [
      "0x55eea0eace60\n"
     ]
    }
   ],
   "source": [
    "#Every object aka variable defined is allocated a slot in\n",
    "#memory called the Heap\n",
    "#Bottom line, variables are bits of data (zeros and ones) creating bytes.\n",
    "#(8 bits = 1 byte) of data. Which are stored in memory addresses.\n",
    "variable_2 = 10\n",
    "print(hex(id(variable_2)))"
   ]
  },
  {
   "cell_type": "code",
   "execution_count": 11,
   "metadata": {},
   "outputs": [
    {
     "name": "stdout",
     "output_type": "stream",
     "text": [
      "0x55eea0eace60\n",
      "0x55eea0eace60\n"
     ]
    }
   ],
   "source": [
    "#However, variables can claim the same memory address location\n",
    "my_var = 10\n",
    "print(hex(id(my_var)))\n",
    "#----------------------------------\n",
    "other_var = my_var\n",
    "print(hex(id(other_var)))"
   ]
  },
  {
   "cell_type": "code",
   "execution_count": 12,
   "metadata": {},
   "outputs": [
    {
     "data": {
      "text/plain": [
       "2"
      ]
     },
     "execution_count": 12,
     "metadata": {},
     "output_type": "execute_result"
    }
   ],
   "source": [
    "import ctypes\n",
    "variable_3 = 1000\n",
    "def ref_count(address: int):\n",
    "    return ctypes.c_long.from_address(address).value\n",
    " \n",
    "ref_count(id(variable_3))\n"
   ]
  },
  {
   "cell_type": "code",
   "execution_count": 13,
   "metadata": {},
   "outputs": [
    {
     "data": {
      "text/plain": [
       "177"
      ]
     },
     "execution_count": 13,
     "metadata": {},
     "output_type": "execute_result"
    }
   ],
   "source": [
    "import ctypes\n",
    "variable_4 = 1000\n",
    "def ref_count(address: int):\n",
    "    return ctypes.c_long.from_address(address).value\n",
    " \n",
    "ref_count(id(variable_2))\n"
   ]
  },
  {
   "cell_type": "code",
   "execution_count": 14,
   "metadata": {},
   "outputs": [
    {
     "data": {
      "text/plain": [
       "387"
      ]
     },
     "execution_count": 14,
     "metadata": {},
     "output_type": "execute_result"
    }
   ],
   "source": [
    "#Manually run garbage collecter\n",
    "import gc\n",
    "gc.collect()"
   ]
  },
  {
   "cell_type": "code",
   "execution_count": 15,
   "metadata": {},
   "outputs": [],
   "source": [
    "a = 'HELLO'"
   ]
  },
  {
   "cell_type": "code",
   "execution_count": 16,
   "metadata": {},
   "outputs": [
    {
     "data": {
      "text/plain": [
       "str"
      ]
     },
     "execution_count": 16,
     "metadata": {},
     "output_type": "execute_result"
    }
   ],
   "source": [
    "type(a)"
   ]
  },
  {
   "cell_type": "code",
   "execution_count": 17,
   "metadata": {},
   "outputs": [
    {
     "data": {
      "text/plain": [
       "int"
      ]
     },
     "execution_count": 17,
     "metadata": {},
     "output_type": "execute_result"
    }
   ],
   "source": [
    "a = 10\n",
    "type(a)"
   ]
  },
  {
   "cell_type": "code",
   "execution_count": 18,
   "metadata": {},
   "outputs": [
    {
     "data": {
      "text/plain": [
       "function"
      ]
     },
     "execution_count": 18,
     "metadata": {},
     "output_type": "execute_result"
    }
   ],
   "source": [
    "#Notice how (a) changes type as you assign it to a different class \n",
    "#first it was a str, then an int, then a function, then complex\n",
    "a = lambda x: x**2\n",
    "a(2)\n",
    "type(a)"
   ]
  },
  {
   "cell_type": "code",
   "execution_count": 19,
   "metadata": {},
   "outputs": [
    {
     "data": {
      "text/plain": [
       "complex"
      ]
     },
     "execution_count": 19,
     "metadata": {},
     "output_type": "execute_result"
    }
   ],
   "source": [
    "a = 3 + 4j\n",
    "type(a)"
   ]
  },
  {
   "cell_type": "code",
   "execution_count": 20,
   "metadata": {},
   "outputs": [
    {
     "name": "stdout",
     "output_type": "stream",
     "text": [
      "139753501074480\n",
      "139753475416496\n"
     ]
    }
   ],
   "source": [
    "#memory address changes here because we assigned same variable another object ???\n",
    "my_var = 10\n",
    "print(id(hex(my_var)))\n",
    "my_var = my_var + 5\n",
    "print(id(hex(my_var)))\n"
   ]
  },
  {
   "cell_type": "code",
   "execution_count": 21,
   "metadata": {},
   "outputs": [
    {
     "name": "stdout",
     "output_type": "stream",
     "text": [
      "139753501263616\n",
      "<class 'list'>\n",
      "[1, 2, 3, 4]\n",
      "139753501263616\n"
     ]
    }
   ],
   "source": [
    "my_list = [1, 2, 3]\n",
    "print(id(my_list))\n",
    "print(type(my_list))\n",
    "\n",
    "my_list.append(4)\n",
    "print(my_list)\n",
    "print(id(my_list))"
   ]
  },
  {
   "cell_type": "code",
   "execution_count": 22,
   "metadata": {},
   "outputs": [
    {
     "data": {
      "text/plain": [
       "139753501104000"
      ]
     },
     "execution_count": 22,
     "metadata": {},
     "output_type": "execute_result"
    }
   ],
   "source": [
    "#memory address does not change for dict. WE SHALL SEE\n",
    "my_dict = dict(key1=1, key2='a')\n",
    "id(my_dict)\n",
    "\n"
   ]
  },
  {
   "cell_type": "code",
   "execution_count": 23,
   "metadata": {},
   "outputs": [],
   "source": [
    "my_dict['key3'] = 10.5"
   ]
  },
  {
   "cell_type": "code",
   "execution_count": 24,
   "metadata": {},
   "outputs": [
    {
     "data": {
      "text/plain": [
       "139753501104000"
      ]
     },
     "execution_count": 24,
     "metadata": {},
     "output_type": "execute_result"
    }
   ],
   "source": [
    "id(my_dict)"
   ]
  },
  {
   "cell_type": "code",
   "execution_count": 25,
   "metadata": {},
   "outputs": [
    {
     "name": "stdout",
     "output_type": "stream",
     "text": [
      "True\n"
     ]
    }
   ],
   "source": [
    "same_memory = True\n",
    "print(same_memory)"
   ]
  },
  {
   "cell_type": "code",
   "execution_count": 26,
   "metadata": {},
   "outputs": [
    {
     "name": "stdout",
     "output_type": "stream",
     "text": [
      "([1, 2], [3, 4], [5, 6, 7])\n"
     ]
    }
   ],
   "source": [
    "#tuple is immutable but the sets inside are mutable\n",
    "t = ([1, 2], [3, 4], [5, 6])\n",
    "t[2].append(7)\n",
    "print(t)"
   ]
  },
  {
   "cell_type": "code",
   "execution_count": 27,
   "metadata": {},
   "outputs": [],
   "source": [
    "def modify_tuple(t):\n",
    "    print('Initial t # = {0}'.format(id(t)))\n",
    "    t[0].append(100)\n",
    "    print('Final t # = {0}'.format(id(t)))"
   ]
  },
  {
   "cell_type": "code",
   "execution_count": 28,
   "metadata": {},
   "outputs": [],
   "source": [
    "my_tuple = ([1, 2], 'a')"
   ]
  },
  {
   "cell_type": "code",
   "execution_count": 29,
   "metadata": {},
   "outputs": [
    {
     "data": {
      "text/plain": [
       "139753475392896"
      ]
     },
     "execution_count": 29,
     "metadata": {},
     "output_type": "execute_result"
    }
   ],
   "source": [
    "id(my_tuple)"
   ]
  },
  {
   "cell_type": "code",
   "execution_count": 30,
   "metadata": {},
   "outputs": [
    {
     "name": "stdout",
     "output_type": "stream",
     "text": [
      "Initial t # = 139753475392896\n",
      "Final t # = 139753475392896\n"
     ]
    }
   ],
   "source": [
    "modify_tuple(my_tuple)"
   ]
  },
  {
   "cell_type": "code",
   "execution_count": 31,
   "metadata": {},
   "outputs": [
    {
     "name": "stdout",
     "output_type": "stream",
     "text": [
      "([1, 2, 100], 'a')\n"
     ]
    }
   ],
   "source": [
    "print(my_tuple)"
   ]
  },
  {
   "cell_type": "code",
   "execution_count": 32,
   "metadata": {},
   "outputs": [
    {
     "data": {
      "text/plain": [
       "139753475416896"
      ]
     },
     "execution_count": 32,
     "metadata": {},
     "output_type": "execute_result"
    }
   ],
   "source": [
    "# a is == equal to be but a is NOT b in memory\n",
    "a = [1, 2, 3]\n",
    "b = [1, 2, 3]\n",
    "id(a)"
   ]
  },
  {
   "cell_type": "code",
   "execution_count": 33,
   "metadata": {},
   "outputs": [
    {
     "data": {
      "text/plain": [
       "139753475417792"
      ]
     },
     "execution_count": 33,
     "metadata": {},
     "output_type": "execute_result"
    }
   ],
   "source": [
    "id(b)"
   ]
  },
  {
   "cell_type": "code",
   "execution_count": 34,
   "metadata": {},
   "outputs": [
    {
     "name": "stdout",
     "output_type": "stream",
     "text": [
      "a is b False\n",
      "a == b True\n"
     ]
    }
   ],
   "source": [
    "print('a is b', a is b)\n",
    "print('a == b', a == b)"
   ]
  },
  {
   "cell_type": "code",
   "execution_count": 35,
   "metadata": {},
   "outputs": [],
   "source": [
    "def my_func():\n",
    "    a = 24 * 60\n",
    "    b = (1, 2) * 5\n",
    "    c = 'abc' * 3\n",
    "    d = 'ab' * 11\n",
    "    e = 'the quick brown fox' * 5\n",
    "    f = ['a', 'b'] * 3"
   ]
  },
  {
   "cell_type": "code",
   "execution_count": 36,
   "metadata": {},
   "outputs": [
    {
     "data": {
      "text/plain": [
       "(None,\n",
       " 1440,\n",
       " (1, 2, 1, 2, 1, 2, 1, 2, 1, 2),\n",
       " 'abcabcabc',\n",
       " 'ababababababababababab',\n",
       " 'the quick brown foxthe quick brown foxthe quick brown foxthe quick brown foxthe quick brown fox',\n",
       " 'a',\n",
       " 'b',\n",
       " 3)"
      ]
     },
     "execution_count": 36,
     "metadata": {},
     "output_type": "execute_result"
    }
   ],
   "source": [
    "my_func.__code__.co_consts"
   ]
  },
  {
   "cell_type": "code",
   "execution_count": 37,
   "metadata": {},
   "outputs": [],
   "source": [
    "def my_func(e):\n",
    "    if e in [1, 2, 3]:\n",
    "        pass"
   ]
  },
  {
   "cell_type": "code",
   "execution_count": 38,
   "metadata": {},
   "outputs": [
    {
     "data": {
      "text/plain": [
       "(None, (1, 2, 3))"
      ]
     },
     "execution_count": 38,
     "metadata": {},
     "output_type": "execute_result"
    }
   ],
   "source": [
    "my_func.__code__.co_consts"
   ]
  },
  {
   "cell_type": "code",
   "execution_count": 39,
   "metadata": {},
   "outputs": [],
   "source": [
    "def my_func(e):\n",
    "    if e in {1, 2, 3}:\n",
    "        pass"
   ]
  },
  {
   "cell_type": "code",
   "execution_count": 40,
   "metadata": {},
   "outputs": [
    {
     "data": {
      "text/plain": [
       "(None, frozenset({1, 2, 3}))"
      ]
     },
     "execution_count": 40,
     "metadata": {},
     "output_type": "execute_result"
    }
   ],
   "source": [
    "my_func.__code__.co_consts"
   ]
  },
  {
   "cell_type": "code",
   "execution_count": 41,
   "metadata": {},
   "outputs": [],
   "source": [
    "import string\n",
    "import time"
   ]
  },
  {
   "cell_type": "code",
   "execution_count": 42,
   "metadata": {},
   "outputs": [
    {
     "data": {
      "text/plain": [
       "'abcdefghijklmnopqrstuvwxyzABCDEFGHIJKLMNOPQRSTUVWXYZ'"
      ]
     },
     "execution_count": 42,
     "metadata": {},
     "output_type": "execute_result"
    }
   ],
   "source": [
    "string.ascii_letters"
   ]
  },
  {
   "cell_type": "code",
   "execution_count": 43,
   "metadata": {},
   "outputs": [],
   "source": [
    "char_list = list(string.ascii_letters)"
   ]
  },
  {
   "cell_type": "code",
   "execution_count": 44,
   "metadata": {},
   "outputs": [],
   "source": [
    "char_tuple = tuple(string.ascii_letters)"
   ]
  },
  {
   "cell_type": "code",
   "execution_count": 45,
   "metadata": {},
   "outputs": [],
   "source": [
    "char_set = set(string.ascii_letters)"
   ]
  },
  {
   "cell_type": "code",
   "execution_count": 46,
   "metadata": {},
   "outputs": [
    {
     "name": "stdout",
     "output_type": "stream",
     "text": [
      "['a', 'b', 'c', 'd', 'e', 'f', 'g', 'h', 'i', 'j', 'k', 'l', 'm', 'n', 'o', 'p', 'q', 'r', 's', 't', 'u', 'v', 'w', 'x', 'y', 'z', 'A', 'B', 'C', 'D', 'E', 'F', 'G', 'H', 'I', 'J', 'K', 'L', 'M', 'N', 'O', 'P', 'Q', 'R', 'S', 'T', 'U', 'V', 'W', 'X', 'Y', 'Z']\n"
     ]
    }
   ],
   "source": [
    "print(char_list)\n"
   ]
  },
  {
   "cell_type": "code",
   "execution_count": 47,
   "metadata": {},
   "outputs": [
    {
     "name": "stdout",
     "output_type": "stream",
     "text": [
      "('a', 'b', 'c', 'd', 'e', 'f', 'g', 'h', 'i', 'j', 'k', 'l', 'm', 'n', 'o', 'p', 'q', 'r', 's', 't', 'u', 'v', 'w', 'x', 'y', 'z', 'A', 'B', 'C', 'D', 'E', 'F', 'G', 'H', 'I', 'J', 'K', 'L', 'M', 'N', 'O', 'P', 'Q', 'R', 'S', 'T', 'U', 'V', 'W', 'X', 'Y', 'Z')\n"
     ]
    }
   ],
   "source": [
    "print(char_tuple)\n"
   ]
  },
  {
   "cell_type": "code",
   "execution_count": 48,
   "metadata": {},
   "outputs": [
    {
     "name": "stdout",
     "output_type": "stream",
     "text": [
      "{'E', 'L', 'H', 'y', 'z', 'B', 'f', 'a', 'h', 'q', 'V', 'G', 'P', 'k', 'I', 'Q', 'J', 'b', 'l', 'X', 'e', 'Z', 'O', 'Y', 'S', 'd', 'w', 'm', 'K', 'T', 'p', 'M', 'C', 'x', 'A', 'u', 'g', 'c', 'j', 's', 'F', 't', 'D', 'o', 'r', 'W', 'i', 'R', 'N', 'U', 'v', 'n'}\n"
     ]
    }
   ],
   "source": [
    "print(char_set)"
   ]
  },
  {
   "cell_type": "code",
   "execution_count": 49,
   "metadata": {},
   "outputs": [],
   "source": [
    "def membership_test(n, container):\n",
    "    for i in range(n):\n",
    "        if 'z' in container:\n",
    "            pass\n"
   ]
  },
  {
   "cell_type": "code",
   "execution_count": 50,
   "metadata": {},
   "outputs": [
    {
     "name": "stdout",
     "output_type": "stream",
     "text": [
      "list:  6.9314358179999545\n"
     ]
    }
   ],
   "source": [
    "start = time.perf_counter()\n",
    "membership_test(10000000, char_list)\n",
    "end = time.perf_counter()\n",
    "print('list: ', end-start)"
   ]
  },
  {
   "cell_type": "code",
   "execution_count": 51,
   "metadata": {},
   "outputs": [
    {
     "name": "stdout",
     "output_type": "stream",
     "text": [
      "tuple:  6.9518580789990665\n"
     ]
    }
   ],
   "source": [
    "start = time.perf_counter()\n",
    "membership_test(10000000, char_tuple)\n",
    "end = time.perf_counter()\n",
    "print('tuple: ', end-start)"
   ]
  },
  {
   "cell_type": "code",
   "execution_count": 52,
   "metadata": {},
   "outputs": [
    {
     "name": "stdout",
     "output_type": "stream",
     "text": [
      "Set:  0.6661363860002893\n"
     ]
    }
   ],
   "source": [
    "# Way faster i guess\n",
    "start = time.perf_counter()\n",
    "membership_test(10000000, char_set)\n",
    "end = time.perf_counter()\n",
    "print('Set: ', end-start)"
   ]
  },
  {
   "cell_type": "code",
   "execution_count": 53,
   "metadata": {},
   "outputs": [
    {
     "name": "stdout",
     "output_type": "stream",
     "text": [
      "<class 'int'>\n"
     ]
    }
   ],
   "source": [
    "print(type(0))"
   ]
  },
  {
   "cell_type": "code",
   "execution_count": 54,
   "metadata": {},
   "outputs": [],
   "source": [
    "import sys"
   ]
  },
  {
   "cell_type": "code",
   "execution_count": 55,
   "metadata": {},
   "outputs": [
    {
     "data": {
      "text/plain": [
       "24"
      ]
     },
     "execution_count": 55,
     "metadata": {},
     "output_type": "execute_result"
    }
   ],
   "source": [
    "sys.getsizeof(0)"
   ]
  },
  {
   "cell_type": "code",
   "execution_count": 56,
   "metadata": {},
   "outputs": [
    {
     "data": {
      "text/plain": [
       "28"
      ]
     },
     "execution_count": 56,
     "metadata": {},
     "output_type": "execute_result"
    }
   ],
   "source": [
    "sys.getsizeof(1)"
   ]
  },
  {
   "cell_type": "code",
   "execution_count": 57,
   "metadata": {},
   "outputs": [
    {
     "data": {
      "text/plain": [
       "160"
      ]
     },
     "execution_count": 57,
     "metadata": {},
     "output_type": "execute_result"
    }
   ],
   "source": [
    "sys.getsizeof(2**1000)"
   ]
  },
  {
   "cell_type": "code",
   "execution_count": 58,
   "metadata": {},
   "outputs": [
    {
     "data": {
      "text/plain": [
       "10715086071862673209484250490600018105614048117055336074437503883703510511249361224931983788156958581275946729175531468251871452856923140435984577574698574803934567774824230985421074605062371141877954182153046474983581941267398767559165543946077062914571196477686542167660429831652624386837205668069376"
      ]
     },
     "execution_count": 58,
     "metadata": {},
     "output_type": "execute_result"
    }
   ],
   "source": [
    "2**1000\n",
    "# Below is what 160 bits of data looks like"
   ]
  },
  {
   "cell_type": "code",
   "execution_count": 59,
   "metadata": {},
   "outputs": [],
   "source": [
    "import math\n",
    "# mafs"
   ]
  },
  {
   "cell_type": "code",
   "execution_count": 60,
   "metadata": {},
   "outputs": [
    {
     "data": {
      "text/plain": [
       "3"
      ]
     },
     "execution_count": 60,
     "metadata": {},
     "output_type": "execute_result"
    }
   ],
   "source": [
    "math.floor(3.15)"
   ]
  },
  {
   "cell_type": "code",
   "execution_count": 61,
   "metadata": {},
   "outputs": [
    {
     "data": {
      "text/plain": [
       "-4"
      ]
     },
     "execution_count": 61,
     "metadata": {},
     "output_type": "execute_result"
    }
   ],
   "source": [
    "math.floor(-3.999)\n"
   ]
  },
  {
   "cell_type": "code",
   "execution_count": 62,
   "metadata": {},
   "outputs": [
    {
     "data": {
      "text/plain": [
       "-4"
      ]
     },
     "execution_count": 62,
     "metadata": {},
     "output_type": "execute_result"
    }
   ],
   "source": [
    "math.floor(-3.0000001)"
   ]
  },
  {
   "cell_type": "code",
   "execution_count": 63,
   "metadata": {},
   "outputs": [
    {
     "data": {
      "text/plain": [
       "-3"
      ]
     },
     "execution_count": 63,
     "metadata": {},
     "output_type": "execute_result"
    }
   ],
   "source": [
    "#So many rulez I don't understand =(\n",
    "#This is because eventually a float has limited percision\n",
    "math.floor(-3.0000000000000001)"
   ]
  },
  {
   "cell_type": "code",
   "execution_count": 64,
   "metadata": {},
   "outputs": [
    {
     "name": "stdout",
     "output_type": "stream",
     "text": [
      "-2.0625\n",
      "-3\n",
      "-3\n",
      "-2\n"
     ]
    }
   ],
   "source": [
    "a = -33\n",
    "b = 16\n",
    "print(a/b)\n",
    "print(a//b)\n",
    "print(math.floor(a/b))\n",
    "print(math.trunc(a/b))"
   ]
  },
  {
   "cell_type": "code",
   "execution_count": 65,
   "metadata": {},
   "outputs": [],
   "source": [
    "a = b * (a//b) + (a%b)"
   ]
  },
  {
   "cell_type": "code",
   "execution_count": 66,
   "metadata": {},
   "outputs": [
    {
     "name": "stdout",
     "output_type": "stream",
     "text": [
      "(0)/(1) = (2)\n",
      "(0)/(1) = (2)\n",
      "(0)/(1) = (2)\n",
      "False\n"
     ]
    }
   ],
   "source": [
    "a = -13\n",
    "b = 4\n",
    "print('(0)/(1) = (2)'.format(a, b, a/b))\n",
    "print('(0)/(1) = (2)'.format(a, b, a//b))\n",
    "print('(0)/(1) = (2)'.format(a, b, a%b))\n",
    "print(a == b * (a//b) * (a%b))"
   ]
  },
  {
   "cell_type": "code",
   "execution_count": 67,
   "metadata": {},
   "outputs": [
    {
     "data": {
      "text/plain": [
       "True"
      ]
     },
     "execution_count": 67,
     "metadata": {},
     "output_type": "execute_result"
    }
   ],
   "source": [
    "import math\n",
    "a = 20\n",
    "math.isfinite(a)"
   ]
  },
  {
   "cell_type": "code",
   "execution_count": 68,
   "metadata": {},
   "outputs": [
    {
     "name": "stdout",
     "output_type": "stream",
     "text": [
      "False\n"
     ]
    }
   ],
   "source": [
    "print(math.isnan(a))"
   ]
  },
  {
   "cell_type": "markdown",
   "metadata": {},
   "source": [
    "## Slicing in Python"
   ]
  },
  {
   "cell_type": "code",
   "execution_count": 69,
   "metadata": {},
   "outputs": [
    {
     "name": "stdout",
     "output_type": "stream",
     "text": [
      ".gnicils ym gnicitcarp rof si enil sihT\n"
     ]
    }
   ],
   "source": [
    "\n",
    "var_string = 'This line is for practicing my slicing.'\n",
    "print(var_string[::-1])"
   ]
  },
  {
   "cell_type": "code",
   "execution_count": 70,
   "metadata": {},
   "outputs": [
    {
     "name": "stdout",
     "output_type": "stream",
     "text": [
      " practicing my slicing.\n"
     ]
    }
   ],
   "source": [
    "print(var_string[16::])"
   ]
  },
  {
   "cell_type": "code",
   "execution_count": 71,
   "metadata": {},
   "outputs": [
    {
     "name": "stdout",
     "output_type": "stream",
     "text": [
      "slicing\n"
     ]
    }
   ],
   "source": [
    "print(var_string[-8:-1:])"
   ]
  },
  {
   "cell_type": "code",
   "execution_count": 72,
   "metadata": {},
   "outputs": [
    {
     "name": "stdout",
     "output_type": "stream",
     "text": [
      "This line is for practicing my slicing.\n"
     ]
    }
   ],
   "source": [
    "print(var_string[0::])"
   ]
  },
  {
   "cell_type": "code",
   "execution_count": 73,
   "metadata": {},
   "outputs": [
    {
     "name": "stdout",
     "output_type": "stream",
     "text": [
      " my\n"
     ]
    }
   ],
   "source": [
    "print(var_string[27:30:])"
   ]
  },
  {
   "cell_type": "code",
   "execution_count": 74,
   "metadata": {},
   "outputs": [
    {
     "data": {
      "text/plain": [
       "17"
      ]
     },
     "execution_count": 74,
     "metadata": {},
     "output_type": "execute_result"
    }
   ],
   "source": [
    "var_string.find('practicing')"
   ]
  },
  {
   "cell_type": "code",
   "execution_count": 75,
   "metadata": {},
   "outputs": [
    {
     "data": {
      "text/plain": [
       "17"
      ]
     },
     "execution_count": 75,
     "metadata": {},
     "output_type": "execute_result"
    }
   ],
   "source": [
    "var_string.index('practicing')"
   ]
  },
  {
   "cell_type": "code",
   "execution_count": 76,
   "metadata": {},
   "outputs": [
    {
     "data": {
      "text/plain": [
       "7"
      ]
     },
     "execution_count": 76,
     "metadata": {},
     "output_type": "execute_result"
    }
   ],
   "source": [
    "#counts total number of letters in string\n",
    "var_string.count('i')"
   ]
  },
  {
   "cell_type": "code",
   "execution_count": 77,
   "metadata": {},
   "outputs": [
    {
     "data": {
      "text/plain": [
       "'THIS LINE IS FOR PRACTICING MY SLICING.'"
      ]
     },
     "execution_count": 77,
     "metadata": {},
     "output_type": "execute_result"
    }
   ],
   "source": [
    "var_string.upper()"
   ]
  },
  {
   "cell_type": "markdown",
   "metadata": {},
   "source": [
    "## Concatenation of strings"
   ]
  },
  {
   "cell_type": "code",
   "execution_count": 78,
   "metadata": {},
   "outputs": [
    {
     "name": "stdout",
     "output_type": "stream",
     "text": [
      "Hello World\n"
     ]
    }
   ],
   "source": [
    "var1 = 'Hello'\n",
    "var2 = 'World'\n",
    "var3 = var1 + ' ' + var2\n",
    "print(var3)"
   ]
  },
  {
   "cell_type": "code",
   "execution_count": 79,
   "metadata": {},
   "outputs": [
    {
     "name": "stdout",
     "output_type": "stream",
     "text": [
      "My name is Vorkampfer and my age is 51 I am an International $tuNNa!!!\n"
     ]
    }
   ],
   "source": [
    "print('My name is %s and my age is %i I am an International %s'%('Vorkampfer', 51, '$tuNNa!!!'))"
   ]
  },
  {
   "cell_type": "code",
   "execution_count": 80,
   "metadata": {},
   "outputs": [
    {
     "name": "stdout",
     "output_type": "stream",
     "text": [
      "John plays foozball. John nancy boy plays golf.\n",
      "current value to be replaced : John\n",
      "Please enter the new value : Bobby\n"
     ]
    },
    {
     "data": {
      "text/plain": [
       "'Bobby plays foozball. Bobby nancy boy plays golf.'"
      ]
     },
     "execution_count": 80,
     "metadata": {},
     "output_type": "execute_result"
    }
   ],
   "source": [
    "#Replace method\n",
    "var1 = \"John plays foozball. John nancy boy plays golf.\"\n",
    "print(var1)\n",
    "var2 = input('current value to be replaced : ')\n",
    "var3 = input('Please enter the new value : ')\n",
    "var1.replace(var2,var3)\n"
   ]
  },
  {
   "cell_type": "code",
   "execution_count": 81,
   "metadata": {},
   "outputs": [
    {
     "name": "stdout",
     "output_type": "stream",
     "text": [
      "John plays foozball. John nancy boy plays golf.\n",
      "current value to be replaced : John\n",
      "Please enter the new value : Bob\n",
      "Number of instances to be removed : 1\n"
     ]
    },
    {
     "data": {
      "text/plain": [
       "'Bob plays foozball. John nancy boy plays golf.'"
      ]
     },
     "execution_count": 81,
     "metadata": {},
     "output_type": "execute_result"
    }
   ],
   "source": [
    "#Replace plus count method\n",
    "var1 = \"John plays foozball. John nancy boy plays golf.\"\n",
    "print(var1)\n",
    "var2 = input('current value to be replaced : ')\n",
    "var3 = input('Please enter the new value : ')\n",
    "\n",
    "count = input('Number of instances to be removed : ')\n",
    "var1.replace(var2,var3, int(count))"
   ]
  },
  {
   "cell_type": "code",
   "execution_count": 83,
   "metadata": {},
   "outputs": [
    {
     "name": "stdout",
     "output_type": "stream",
     "text": [
      "Please enter the order value : 1000000000\n"
     ]
    },
    {
     "data": {
      "text/plain": [
       "'Customer name is shithead Mr.Dirty Bill Gates. The total order value for Mr. Dirty Bill Gates is $1000000000.'"
      ]
     },
     "execution_count": 83,
     "metadata": {},
     "output_type": "execute_result"
    }
   ],
   "source": [
    "# .format() method kind of easy to understand just replacing values inside of {}\n",
    "# .format by integer\n",
    "user_name = 'Dirty Bill Gates'\n",
    "order_value = int(input('Please enter the order value : '))\n",
    "                  \n",
    "result = 'Customer name is shithead Mr.{0}. The total order value for Mr. {0} is ${1}.'\n",
    "result.format(user_name, order_value)"
   ]
  },
  {
   "cell_type": "code",
   "execution_count": 93,
   "metadata": {},
   "outputs": [
    {
     "name": "stdout",
     "output_type": "stream",
     "text": [
      "Please enter the order value : 10000000000000000000\n"
     ]
    },
    {
     "data": {
      "text/plain": [
       "'Customer name is p.o.s. Mr.Dirty Bill Gates. The total order value for Mr. Dirty Bill Gates is $10000000000000000000.'"
      ]
     },
     "execution_count": 93,
     "metadata": {},
     "output_type": "execute_result"
    }
   ],
   "source": [
    "# .format() by named index or key\n",
    "user_name = 'Dirty Bill Gates'\n",
    "order_value = int(input('Please enter the order value : '))\n",
    "result = 'Customer name is p.o.s. Mr.{name}. The total order value for Mr. {name} is ${value}.'\n",
    "result.format(name=user_name, value=order_value)\n"
   ]
  },
  {
   "cell_type": "code",
   "execution_count": 94,
   "metadata": {},
   "outputs": [
    {
     "name": "stdout",
     "output_type": "stream",
     "text": [
      "Please enter your salary : 60000\n",
      "Congrats you home loan is approved!!!\n"
     ]
    }
   ],
   "source": [
    "# simple if statement\n",
    "salary = int(input('Please enter your salary : '))\n",
    "if salary >= 5000:\n",
    "    print(\"Congrats you home loan is approved!!!\")\n",
    "else:\n",
    "    print('Sorry bro you need a better job.:/')   \n",
    "    "
   ]
  },
  {
   "cell_type": "code",
   "execution_count": 95,
   "metadata": {},
   "outputs": [
    {
     "name": "stdout",
     "output_type": "stream",
     "text": [
      "Please enter your salary : 5000\n",
      "Your loan was approved!\n"
     ]
    }
   ],
   "source": [
    "#short hand if else statement, not recommended\n",
    "salary = int(input('Please enter your salary : '))\n",
    "print('Your loan was approved!') if salary >= 5000 else print('Loan Declined')"
   ]
  },
  {
   "cell_type": "code",
   "execution_count": 84,
   "metadata": {},
   "outputs": [
    {
     "name": "stdout",
     "output_type": "stream",
     "text": [
      "Please enter your salary : 6000\n",
      "Please enter your age : 46\n",
      "Approved Manually.\n"
     ]
    }
   ],
   "source": [
    "#salary: accept the input\n",
    "salary = int(input('Please enter your salary : '))\n",
    "age = int(input('Please enter your age : '))\n",
    "#print(\"\")\n",
    "if salary >= 7000 and age >= 45:\n",
    "    print('Auto Approved.')\n",
    "else:\n",
    "    print('Approved Manually.')\n"
   ]
  },
  {
   "cell_type": "code",
   "execution_count": 4,
   "metadata": {},
   "outputs": [
    {
     "name": "stdout",
     "output_type": "stream",
     "text": [
      "Please enter the keyword to search : Python programming is\n",
      "\n",
      "The search results are positive. \n"
     ]
    }
   ],
   "source": [
    "#check the membership of a string using if statement\n",
    "string = 'Python programming is fun.'\n",
    "sub = input('Please enter the keyword to search : ')\n",
    "print('')\n",
    "if sub in string:\n",
    "    print('The search results are positive. ')\n",
    "else:\n",
    "    print(\"Word or phrase NOT FOUND\")"
   ]
  },
  {
   "cell_type": "code",
   "execution_count": 5,
   "metadata": {},
   "outputs": [
    {
     "name": "stdout",
     "output_type": "stream",
     "text": [
      "0\n",
      "2\n",
      "4\n",
      "6\n",
      "8\n"
     ]
    }
   ],
   "source": [
    "#While loop example\n",
    "i = 0\n",
    "while i < 10:\n",
    "    print(i)\n",
    "    i += 2"
   ]
  },
  {
   "cell_type": "code",
   "execution_count": 6,
   "metadata": {},
   "outputs": [
    {
     "name": "stdout",
     "output_type": "stream",
     "text": [
      "0\n",
      "2\n",
      "4\n",
      "6\n",
      "8\n"
     ]
    }
   ],
   "source": [
    "#while loop boolean set to false\n",
    "i = 0\n",
    "var1 = True\n",
    "#while i < 10:\n",
    "while var1:\n",
    "    print(i)\n",
    "    i += 2\n",
    "    \n",
    "    if i >= 10:\n",
    "        var1 = False"
   ]
  },
  {
   "cell_type": "code",
   "execution_count": 8,
   "metadata": {},
   "outputs": [
    {
     "name": "stdout",
     "output_type": "stream",
     "text": [
      "Please enter the name : henry\n",
      "Character number 1 is h\n",
      "Character number 2 is e\n",
      "Character number 3 is n\n",
      "Character number 4 is r\n",
      "Character number 5 is y\n"
     ]
    }
   ],
   "source": [
    "#for loop\n",
    "name = input('Please enter the name : ')\n",
    "i = 1\n",
    "for letters in name:\n",
    "    print('Character number {} is {}'.format(i, letters))\n",
    "    i += 1"
   ]
  },
  {
   "cell_type": "code",
   "execution_count": 10,
   "metadata": {},
   "outputs": [
    {
     "name": "stdout",
     "output_type": "stream",
     "text": [
      "Please enter the word : Harry Potter\n",
      "Character number 1 is H \n",
      "Character number 2 is a \n",
      "Character number 3 is r \n",
      "Character number 4 is r \n",
      "Character number 5 is y \n",
      "Character number 6 is   \n",
      "Character number 7 is P \n",
      "Character number 8 is o \n",
      "Character number 9 is t \n",
      "Character number 10 is t \n",
      "Character number 11 is e \n",
      "Character number 12 is r \n"
     ]
    }
   ],
   "source": [
    "#for loop in a range\n",
    "name = input('Please enter the word : ')\n",
    "# i goes from 0 index until the end of the string\n",
    "length = len(name)\n",
    "for i in range(0, length, 1):\n",
    "    print('Character number {} is {} '.format(i+1, name[i]))"
   ]
  },
  {
   "cell_type": "code",
   "execution_count": 13,
   "metadata": {},
   "outputs": [
    {
     "name": "stdout",
     "output_type": "stream",
     "text": [
      "1 2 3 4 5 6 7 8 9 10 2 4 6 8 10 12 14 16 18 20 3 6 9 12 15 18 21 24 27 30 4 8 12 16 20 24 28 32 36 40 5 10 15 20 25 30 35 40 45 50 6 12 18 24 30 36 42 48 54 60 7 14 21 28 35 42 49 56 63 70 8 16 24 32 40 48 56 64 72 80 9 18 27 36 45 54 63 72 81 90 10 20 30 40 50 60 70 80 90 100 11 22 33 44 55 66 77 88 99 110 12 24 36 48 60 72 84 96 108 120 13 26 39 52 65 78 91 104 117 130 14 28 42 56 70 84 98 112 126 140 15 30 45 60 75 90 105 120 135 150 16 32 48 64 80 96 112 128 144 160 17 34 51 68 85 102 119 136 153 170 18 36 54 72 90 108 126 144 162 180 19 38 57 76 95 114 133 152 171 190 "
     ]
    }
   ],
   "source": [
    "# nested fo loops\n",
    "#i, j for cross table numbers\n",
    "for i in range(1,20,1):\n",
    "    #print('')\n",
    "    for j in range(1,11,1):\n",
    "        result = i*j\n",
    "        print(result, end=' ')\n"
   ]
  },
  {
   "cell_type": "code",
   "execution_count": 3,
   "metadata": {},
   "outputs": [
    {
     "name": "stdout",
     "output_type": "stream",
     "text": [
      "1 2 3 4 5 6 7 8 9 10 2 4 6 8 10 12 14 16 18 20 3 6 9 12 15 18 21 24 27 30 4 8 12 16 20 24 28 32 36 40 5 10 15 20 25 30 35 40 45 50 6 12 18 24 30 36 42 48 54 60 7 14 21 28 35 42 49 56 63 70 8 16 24 32 40 48 56 64 72 80 9 18 27 36 45 54 63 72 81 90 10 20 30 40 50 60 70 80 90 100 "
     ]
    }
   ],
   "source": [
    "#print a table using for loop and then a break\n",
    "for i in range(1,20,1):\n",
    "    \n",
    "    if i > 10:\n",
    "        break\n",
    "    for j in range(1,11,1):\n",
    "        result = i*j\n",
    "        print(result, end=' ')\n",
    "    #print('')"
   ]
  },
  {
   "cell_type": "code",
   "execution_count": 2,
   "metadata": {},
   "outputs": [
    {
     "data": {
      "text/plain": [
       "True"
      ]
     },
     "execution_count": 2,
     "metadata": {},
     "output_type": "execute_result"
    }
   ],
   "source": [
    "0.1 + 0.1 == 0.2"
   ]
  },
  {
   "cell_type": "code",
   "execution_count": 5,
   "metadata": {},
   "outputs": [
    {
     "name": "stderr",
     "output_type": "stream",
     "text": [
      "<>:1: SyntaxWarning: \"is\" with a literal. Did you mean \"==\"?\n",
      "<>:1: SyntaxWarning: \"is\" with a literal. Did you mean \"==\"?\n",
      "<ipython-input-5-768523be48a5>:1: SyntaxWarning: \"is\" with a literal. Did you mean \"==\"?\n",
      "  0.1 + 0.1 is 0.2\n"
     ]
    },
    {
     "data": {
      "text/plain": [
       "True"
      ]
     },
     "execution_count": 5,
     "metadata": {},
     "output_type": "execute_result"
    }
   ],
   "source": [
    "0.1 + 0.1 is 0.2"
   ]
  },
  {
   "cell_type": "code",
   "execution_count": 22,
   "metadata": {},
   "outputs": [
    {
     "name": "stdout",
     "output_type": "stream",
     "text": [
      "Please enter a name or number to search : mike\n",
      "We have found a name or number you searched for.\n"
     ]
    }
   ],
   "source": [
    "#if in a list\n",
    "#works for a string but not for int object in list\n",
    "\n",
    "my_list = [1, 2, 3, 4, 5, 'sarah', 'mike', 'ralph']\n",
    "slist = input('Please enter a name or number to search : ')\n",
    "if slist in my_list:\n",
    "    print('We have found a name or number you searched for.')\n",
    "else:\n",
    "    print('We have not found the name or number specified.')\n",
    "    "
   ]
  },
  {
   "cell_type": "code",
   "execution_count": 7,
   "metadata": {},
   "outputs": [
    {
     "name": "stdout",
     "output_type": "stream",
     "text": [
      "customer created\n",
      "Caleb Gold\n",
      "customer created\n",
      "Brad Bronze\n"
     ]
    }
   ],
   "source": [
    "#assigning functions to variables in oop\n",
    "class Customer:\n",
    "    def __init__(self, name, membership_type):\n",
    "        self.name = name\n",
    "        self.membership_type = membership_type\n",
    "        print('customer created')\n",
    "        \n",
    "cust = Customer('Caleb', 'Gold')\n",
    "print(cust.name, cust.membership_type)\n",
    "\n",
    "cust2 = Customer('Brad', 'Bronze')\n",
    "print(cust2.name, cust2.membership_type)"
   ]
  },
  {
   "cell_type": "code",
   "execution_count": 88,
   "metadata": {},
   "outputs": [
    {
     "name": "stdout",
     "output_type": "stream",
     "text": [
      "customer created\n",
      "customer created\n",
      "[<__main__.Customer object at 0x7f3f50907670>, <__main__.Customer object at 0x7f3f50907ac0>]\n",
      "Bronze\n",
      "Calculating costs\n",
      "Gold\n",
      "converting to string\n",
      "Brad Gold\n",
      "Reading customer from DB\n",
      "converting to string\n",
      "Caleb Gold\n",
      "converting to string\n",
      "Brad Gold\n"
     ]
    }
   ],
   "source": [
    "# More OOP\n",
    "class Customer:\n",
    "    def __init__(self, name, membership_type):\n",
    "        self.name = name\n",
    "        self.membership_type = membership_type\n",
    "        print('customer created')\n",
    "    def update_membership(self, new_membership):\n",
    "        print('Calculating costs')\n",
    "        #invoke an API\n",
    "        #update a database\n",
    "        #charge the customer\n",
    "        #pretty much anything else\n",
    "        self.membership_type = new_membership\n",
    "    def read_customer():\n",
    "        print('Reading customer from DB')\n",
    "    def __str__(self):\n",
    "        print(\"converting to string\")\n",
    "        return self.name + \" \" + self.membership_type\n",
    "    def print_all_customers(customers):\n",
    "        for customer in customers:\n",
    "            print(customer)\n",
    "    def __eq__(self, other):\n",
    "        if self.name == other.name and self.membership_type ==  other.membership_type:\n",
    "            return True\n",
    "        return False\n",
    "    #__hash__ == None\n",
    "    #__repr__ == __str__\n",
    "customers = [Customer('Caleb', 'Gold'), \n",
    "             Customer('Brad', 'Bronze')]\n",
    "print(customers)\n",
    "print(customers[1].membership_type)\n",
    "customers[1].update_membership('Gold')\n",
    "print(customers[1].membership_type)\n",
    "print(customers[1])\n",
    "#customers[0].read_customer()    ...not invocable because we do not have self in this function\n",
    "Customer.read_customer() #Static method, invoking the class not the function???\n",
    "Customer.print_all_customers(customers) #Static method invoking the class not the func\n",
    "\n"
   ]
  },
  {
   "cell_type": "code",
   "execution_count": 91,
   "metadata": {},
   "outputs": [
    {
     "name": "stdout",
     "output_type": "stream",
     "text": [
      "setting name\n",
      "setting name\n",
      "[<__main__.Customer object at 0x7f3f509078e0>, <__main__.Customer object at 0x7f3f509073d0>]\n",
      "Bronze\n",
      "converting to string\n",
      "getting name\n",
      "Caleb Gold\n"
     ]
    }
   ],
   "source": [
    "#OOP getter and setter\n",
    "class User:\n",
    "    def log(self):\n",
    "        print(self)\n",
    "        \n",
    "class Customer(User):\n",
    "    def __init__(self, name, membership_type):\n",
    "        self.name = name\n",
    "        self.membership_type = membership_type\n",
    "        #print('customer created')\n",
    "    @property\n",
    "    def name(self):\n",
    "        print(\"getting name\")\n",
    "        return self._name\n",
    "    @name.setter\n",
    "    def name(self, name):\n",
    "        print(\"setting name\")\n",
    "        self._name = name\n",
    "        \n",
    "    def update_membership(self, new_membership):\n",
    "        print('Calculating costs')\n",
    "        #invoke an API\n",
    "        #update a database\n",
    "        #charge the customer\n",
    "        #pretty much anything else\n",
    "        self.membership_type = new_membership\n",
    "    def read_customer():\n",
    "        print('Reading customer from DB')\n",
    "    def __str__(self):\n",
    "        print(\"converting to string\")\n",
    "        return self.name + \" \" + self.membership_type\n",
    "    def print_all_customers(customers):\n",
    "        for customer in customers:\n",
    "            print(customer)\n",
    "    def __eq__(self, other):\n",
    "        if self.name == other.name and self.membership_type ==  other.membership_type:\n",
    "            return True\n",
    "        return False\n",
    "    #__hash__ == None\n",
    "    #__repr__ == __str__\n",
    "customers = [Customer('Caleb', 'Gold'), \n",
    "             Customer('Brad', 'Bronze')]\n",
    "print(customers)\n",
    "print(customers[1].membership_type)\n",
    "customers[0].log()"
   ]
  },
  {
   "cell_type": "code",
   "execution_count": 10,
   "metadata": {},
   "outputs": [
    {
     "name": "stdout",
     "output_type": "stream",
     "text": [
      "Please enter a number or 0 to end. : 43\n",
      "Please enter a number or 0 to end. : 356\n",
      "Please enter a number or 0 to end. : 45\n",
      "Please enter a number or 0 to end. : 7\n",
      "Please enter a number or 0 to end. : 76\n",
      "Please enter a number or 0 to end. : 677\n",
      "Please enter a number or 0 to end. : 0\n"
     ]
    }
   ],
   "source": [
    "varT = True\n",
    "num_list = []\n",
    "# accept the list elements until user enters zero\n",
    "while varT:\n",
    "    num = int(input(\"Please enter a number or 0 to end. : \"))\n",
    "    \n",
    "    if num == 0:\n",
    "        varT = False\n",
    "    else:\n",
    "        num_list.append(num)"
   ]
  },
  {
   "cell_type": "code",
   "execution_count": 12,
   "metadata": {},
   "outputs": [
    {
     "name": "stdout",
     "output_type": "stream",
     "text": [
      "Please enter the number to search for : 20\n",
      "We have found the number 20 at index position 1\n"
     ]
    }
   ],
   "source": [
    "num_list = [10, 20, 45]\n",
    "snum = int(input(\"Please enter the number to search for : \"))\n",
    "position = num_list.index(snum)\n",
    "print(\"We have found the number {} at index position {}\".format(snum, position))"
   ]
  },
  {
   "cell_type": "code",
   "execution_count": 34,
   "metadata": {},
   "outputs": [
    {
     "data": {
      "text/plain": [
       "'rank'"
      ]
     },
     "execution_count": 34,
     "metadata": {},
     "output_type": "execute_result"
    }
   ],
   "source": [
    "# Access elements of a multidimensional list\n",
    "list1 = [[20, 15], 42, \"Frank\", 55]\n",
    "\n",
    "#sublist = list1[0]\n",
    "#sublist[1]\n",
    "# the following way is the best way to access the list instead\n",
    "#of using a sublist\n",
    "list1[2][1:5]"
   ]
  },
  {
   "cell_type": "code",
   "execution_count": 37,
   "metadata": {},
   "outputs": [
    {
     "data": {
      "text/plain": [
       "12"
      ]
     },
     "execution_count": 37,
     "metadata": {},
     "output_type": "execute_result"
    }
   ],
   "source": [
    "# Access elements of a multidimensional list another example\n",
    "list1 = [[[20, 15],[65, 12]], 42, \"Frank\", 55]\n",
    "list1[0][1][1]"
   ]
  },
  {
   "cell_type": "code",
   "execution_count": 44,
   "metadata": {},
   "outputs": [
    {
     "data": {
      "text/plain": [
       "'Betty'"
      ]
     },
     "execution_count": 44,
     "metadata": {},
     "output_type": "execute_result"
    }
   ],
   "source": [
    "# Access elements of a multidimensional list another example\n",
    "list1 = [[[20, 15],[\"Betty\"]], 42, \"Frank\", 55]\n",
    "list1[0][1]"
   ]
  },
  {
   "cell_type": "code",
   "execution_count": 6,
   "metadata": {},
   "outputs": [
    {
     "name": "stdout",
     "output_type": "stream",
     "text": [
      "181 Adams Circle\n",
      "{'Street': '181 Adams Circle', 'City': 'Chicago', 'State': 'Il', 'Country': 'USA'}\n"
     ]
    }
   ],
   "source": [
    "# Dicts in Python appending dict and del dict\n",
    "# Define and initialise a dict\n",
    "address = {'Street' : '180 Adams Court',\n",
    "          'City' : 'Chicago',\n",
    "          'State' : 'Il',\n",
    "          'Country' : 'USA'}\n",
    "#print(address['Street'])\n",
    "# Add and update the key-value pair\n",
    "# address['Street'] = '181 Adams Circle'\n",
    "# address['Zip'] = '60606'\n",
    "\n",
    "# # Delete a key-value pair\n",
    "# del address['City']\n",
    "address['Street'] = '181 Adams Circle'\n",
    "print(address['Street'])\n",
    "print(address)"
   ]
  },
  {
   "cell_type": "code",
   "execution_count": 57,
   "metadata": {},
   "outputs": [
    {
     "name": "stdout",
     "output_type": "stream",
     "text": [
      "{'Street': '181 Adams Circle', 'City': 'Chicago', 'State': 'Il', 'Country': 'USA', 'Zip': '60606'}\n"
     ]
    }
   ],
   "source": [
    "address['Zip'] = '60606'\n",
    "print(address)"
   ]
  },
  {
   "cell_type": "code",
   "execution_count": 59,
   "metadata": {},
   "outputs": [
    {
     "name": "stdout",
     "output_type": "stream",
     "text": [
      "{'City': 'Chicago', 'State': 'Il', 'Country': 'USA', 'Zip': '60606'}\n"
     ]
    }
   ],
   "source": [
    "del address['Street']\n",
    "print(address)"
   ]
  },
  {
   "cell_type": "code",
   "execution_count": 3,
   "metadata": {},
   "outputs": [
    {
     "data": {
      "text/plain": [
       "4"
      ]
     },
     "execution_count": 3,
     "metadata": {},
     "output_type": "execute_result"
    }
   ],
   "source": [
    "len(address)"
   ]
  },
  {
   "cell_type": "code",
   "execution_count": 4,
   "metadata": {},
   "outputs": [
    {
     "data": {
      "text/plain": [
       "dict_keys(['Street', 'City', 'State', 'Country'])"
      ]
     },
     "execution_count": 4,
     "metadata": {},
     "output_type": "execute_result"
    }
   ],
   "source": [
    "address.keys()"
   ]
  },
  {
   "cell_type": "code",
   "execution_count": 9,
   "metadata": {},
   "outputs": [
    {
     "name": "stdout",
     "output_type": "stream",
     "text": [
      "['181 Adams Circle', 'Chicago', 'Il', 'USA']\n"
     ]
    }
   ],
   "source": [
    "values = list(address.values())\n",
    "print(values)"
   ]
  },
  {
   "cell_type": "code",
   "execution_count": 10,
   "metadata": {},
   "outputs": [
    {
     "name": "stdout",
     "output_type": "stream",
     "text": [
      "['Street', 'City', 'State', 'Country']\n"
     ]
    }
   ],
   "source": [
    "\n",
    "keys = list(address.keys())\n",
    "print(keys)"
   ]
  },
  {
   "cell_type": "code",
   "execution_count": 15,
   "metadata": {},
   "outputs": [
    {
     "data": {
      "text/plain": [
       "['State']"
      ]
     },
     "execution_count": 15,
     "metadata": {},
     "output_type": "execute_result"
    }
   ],
   "source": [
    "keys[2:3]"
   ]
  },
  {
   "cell_type": "code",
   "execution_count": 14,
   "metadata": {},
   "outputs": [
    {
     "data": {
      "text/plain": [
       "['Country', 'State', 'City', 'Street']"
      ]
     },
     "execution_count": 14,
     "metadata": {},
     "output_type": "execute_result"
    }
   ],
   "source": [
    "keys[::-1]"
   ]
  },
  {
   "cell_type": "code",
   "execution_count": 19,
   "metadata": {},
   "outputs": [
    {
     "data": {
      "text/plain": [
       "'Country'"
      ]
     },
     "execution_count": 19,
     "metadata": {},
     "output_type": "execute_result"
    }
   ],
   "source": [
    "keys[3]"
   ]
  },
  {
   "cell_type": "code",
   "execution_count": 4,
   "metadata": {},
   "outputs": [
    {
     "name": "stdout",
     "output_type": "stream",
     "text": [
      "\n",
      "          Welcome to the Phonebook             \n",
      "-----------------------------------------------\n",
      "   Please choose one of the options below.\n",
      "   A - To add a contact\n",
      "   S - To Search a contact\n",
      "   E - To Exit the Phonebook\n",
      "Option : A\n",
      "Please enter the name     : Mike\n",
      "Please enter the number   : 210-364-1812\n",
      "Please enter the email ID : mike_belfast@protonmail.com\n",
      "The contact Mike has been added successfully.\n",
      "\n",
      "          Welcome to the Phonebook             \n",
      "-----------------------------------------------\n",
      "   Please choose one of the options below.\n",
      "   A - To add a contact\n",
      "   S - To Search a contact\n",
      "   E - To Exit the Phonebook\n",
      "Option : S\n",
      "Please enter the name to search for : Mike\n",
      "Mike is in the phonebook here are the details.\n",
      "['Mike', '210-364-1812', 'mike_belfast@protonmail.com']\n",
      "\n",
      "          Welcome to the Phonebook             \n",
      "-----------------------------------------------\n",
      "   Please choose one of the options below.\n",
      "   A - To add a contact\n",
      "   S - To Search a contact\n",
      "   E - To Exit the Phonebook\n",
      "Option : S\n",
      "Please enter the name to search for : Brad\n",
      "I'm sorry Brad is not found in the phonebook.\n",
      "\n",
      "          Welcome to the Phonebook             \n",
      "-----------------------------------------------\n",
      "   Please choose one of the options below.\n",
      "   A - To add a contact\n",
      "   S - To Search a contact\n",
      "   E - To Exit the Phonebook\n",
      "Option : E\n"
     ]
    }
   ],
   "source": [
    "#make a phonebook list\n",
    "# Initialise the variables\n",
    "varT = True\n",
    "sublist = []\n",
    "phonebook = []\n",
    "# Run the loop, Create an outlined structure first.\n",
    "while varT:\n",
    "    print(\"\")\n",
    "    print(\"          Welcome to the Phonebook             \")\n",
    "    print(\"-----------------------------------------------\")\n",
    "    print(\"   Please choose one of the options below.\")\n",
    "    print(\"   A - To add a contact\")\n",
    "    print(\"   S - To Search a contact\")\n",
    "    print(\"   E - To Exit the Phonebook\")\n",
    "    \n",
    "    option = input(\"Option : \")\n",
    "    \n",
    "    if option == \"E\":\n",
    "        varT = False\n",
    "        \n",
    "    elif option == \"A\":\n",
    "        name  = input(\"Please enter the name     : \")\n",
    "        num   = input(\"Please enter the number   : \")\n",
    "        email = input(\"Please enter the email ID : \")\n",
    "        \n",
    "        sublist = [name, num, email]\n",
    "        \n",
    "        phonebook.append(sublist)\n",
    "        print(\"The contact {} has been added successfully.\".format(name))\n",
    "        \n",
    "    elif option == \"S\":\n",
    "        sname = input(\"Please enter the name to search for : \")\n",
    "        found = False\n",
    "        \n",
    "        for sublist in phonebook:\n",
    "            if sname in sublist:\n",
    "                print(\"{} is in the phonebook here are the details.\".format(sname))\n",
    "                print(sublist)\n",
    "                found = True\n",
    "                \n",
    "        if not found:\n",
    "            print(\"I'm sorry {} is not found in the phonebook.\".format(sname))\n",
    "            \n",
    "        \n",
    "    else:\n",
    "        print(\"Sorry, you have a chosen a wrong action. \")\n",
    "        "
   ]
  },
  {
   "cell_type": "code",
   "execution_count": null,
   "metadata": {},
   "outputs": [],
   "source": []
  }
 ],
 "metadata": {
  "kernelspec": {
   "display_name": "Python 3",
   "language": "python",
   "name": "python3"
  },
  "language_info": {
   "codemirror_mode": {
    "name": "ipython",
    "version": 3
   },
   "file_extension": ".py",
   "mimetype": "text/x-python",
   "name": "python",
   "nbconvert_exporter": "python",
   "pygments_lexer": "ipython3",
   "version": "3.8.5"
  }
 },
 "nbformat": 4,
 "nbformat_minor": 4
}

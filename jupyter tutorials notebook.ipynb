{
 "cells": [
  {
   "cell_type": "code",
   "execution_count": null,
   "metadata": {},
   "outputs": [],
   "source": [
    "x = \"hello world\""
   ]
  },
  {
   "cell_type": "code",
   "execution_count": null,
   "metadata": {},
   "outputs": [],
   "source": [
    "print(x)"
   ]
  },
  {
   "cell_type": "markdown",
   "metadata": {},
   "source": [
    "markdown is basically plain text. \n",
    "except you can format things differently.\n",
    "# This is a Header 1\n",
    "\n",
    "here's some text, including _italics_.\n",
    "#### This is a header 2\n",
    "here's some other text, with **more bold** \n",
    "some *Italics*\n"
   ]
  },
  {
   "cell_type": "markdown",
   "metadata": {},
   "source": [
    "# Here are some random set,list,dict, tuple lines of code to manipulate."
   ]
  },
  {
   "cell_type": "code",
   "execution_count": null,
   "metadata": {},
   "outputs": [],
   "source": [
    "print('HELLO')"
   ]
  },
  {
   "cell_type": "code",
   "execution_count": null,
   "metadata": {},
   "outputs": [],
   "source": [
    "4**4\n",
    "#Basic mafs can be done in Python without importing the math module\n",
    "#i.e. +,-,/,*,%,** etc..."
   ]
  },
  {
   "cell_type": "code",
   "execution_count": null,
   "metadata": {},
   "outputs": [],
   "source": [
    "l = [1, 2, 3, 10]\n",
    "val = 10\n",
    "idx = 0\n",
    "while idx < len(l):\n",
    "    if l[idx] == val:\n",
    "        break\n",
    "    idx += 1\n",
    "else:\n",
    "    l.append(val)\n",
    "    \n",
    "print(l)"
   ]
  },
  {
   "cell_type": "code",
   "execution_count": null,
   "metadata": {},
   "outputs": [],
   "source": [
    "#slicing a list\n",
    "\n",
    "list_org = [\"banana\", \"cherry\", \"apple\", \"grape\", \"pineapple\", \"orange\", \"peach\", \"melon\", \"kiwi\", \"watermelon\"]\n",
    "list_copy = list_org[::-1]\n",
    "print(list_copy)\n"
   ]
  },
  {
   "cell_type": "code",
   "execution_count": null,
   "metadata": {},
   "outputs": [],
   "source": [
    "#sets are unordered, mutable, no duplicates\n",
    "myset = set(\"Hello\")\n",
    "print(myset)"
   ]
  },
  {
   "cell_type": "code",
   "execution_count": null,
   "metadata": {},
   "outputs": [],
   "source": [
    "#Strings: ordered, immutable, text representation\n",
    "my_string = \"\"\"HELLO \\\n",
    "WORLD \n",
    "            \n",
    "            \"\"\"#not seen\n",
    "print(my_string)\n"
   ]
  },
  {
   "cell_type": "code",
   "execution_count": null,
   "metadata": {},
   "outputs": [],
   "source": [
    "my_string = \"\"\"HELLO WORLD\"\"\"\n",
    "char = my_string[6:12]\n",
    "print(char)\n"
   ]
  },
  {
   "cell_type": "code",
   "execution_count": null,
   "metadata": {},
   "outputs": [],
   "source": [
    "#iterate a string\n",
    "greeting = \"HELLO\"\n",
    "for i in greeting:\n",
    "    print(i)"
   ]
  },
  {
   "cell_type": "code",
   "execution_count": null,
   "metadata": {},
   "outputs": [],
   "source": [
    "#Strings: check if '' in string\n",
    "greeting = \"HELLO\"\n",
    "if 'e' in greeting:\n",
    "    print('yes')\n",
    "else:\n",
    "    print('no')\n",
    "#case sensitive i.e. the 'e' is lower case so outputs 'no'"
   ]
  },
  {
   "cell_type": "code",
   "execution_count": null,
   "metadata": {},
   "outputs": [],
   "source": [
    "#strings .upper\n",
    "my_string = \"hello world\"\n",
    "print(my_string.upper())\n"
   ]
  },
  {
   "cell_type": "code",
   "execution_count": null,
   "metadata": {},
   "outputs": [],
   "source": [
    "#strings .lower\n",
    "my_string = \"HELLO WORLD\"\n",
    "print(my_string.lower())"
   ]
  },
  {
   "cell_type": "code",
   "execution_count": null,
   "metadata": {},
   "outputs": [],
   "source": [
    "#strings .endswith\n",
    "my_string = \"HELLO WORLD\"\n",
    "print(my_string.endswith('WORLD'))\n",
    "#case sensitive"
   ]
  },
  {
   "cell_type": "code",
   "execution_count": null,
   "metadata": {},
   "outputs": [],
   "source": [
    "#strings .find\n",
    "my_string = \"HELLO WORLD\"\n",
    "print(my_string.find('RLD'))\n",
    "#case sensitive\n"
   ]
  },
  {
   "cell_type": "code",
   "execution_count": null,
   "metadata": {},
   "outputs": [],
   "source": [
    "#strings .replace\n",
    "my_string = \"HELLO WORLD\"\n",
    "print(my_string.replace('WORLD', 'universe'))\n",
    "#case sensitive\n",
    "#returns a new string, old one is still in memory"
   ]
  },
  {
   "cell_type": "code",
   "execution_count": null,
   "metadata": {},
   "outputs": [],
   "source": [
    "#strings .split method\n",
    "my_string = \"HELLO I AM TYING TO LEARNIT SUMTING HER\"\n",
    "my_list = my_string.split(\" \")\n",
    "print(my_list)\n",
    "#.join method back to original format\n",
    "new_string = ''.join(my_string)\n",
    "print(new_string)"
   ]
  },
  {
   "cell_type": "code",
   "execution_count": null,
   "metadata": {},
   "outputs": [],
   "source": [
    "from timeit import default_timer as timer\n",
    "my_list = ['a'] * 100000\n",
    "#print(my_list)\n",
    "#bad\n",
    "start = timer()\n",
    "my_string = ''\n",
    "for i in my_list:\n",
    "    my_string += i\n",
    "stop = timer()\n",
    "print(start-stop)\n",
    "\n",
    "#good\n",
    "start = timer()\n",
    "my_string = ''.join(my_list)\n",
    "#print(my_string)\n",
    "stop = timer()\n",
    "print(start-stop)\n"
   ]
  },
  {
   "cell_type": "code",
   "execution_count": null,
   "metadata": {},
   "outputs": [],
   "source": [
    "#Strings: %(old way), .format() , f-strings (new way)\n",
    "var = 3.1234567\n",
    "var2 = 6.40394803\n",
    "my_string = \"The variable is {:.4f} and {:.2f}\".format(var,var2)\n",
    "print(my_string)\n"
   ]
  },
  {
   "cell_type": "code",
   "execution_count": null,
   "metadata": {},
   "outputs": [],
   "source": [
    "#f-strings are the new of doing this\n",
    "#my_string = f\"The variable is {var} and {var2:.2f}\"\n",
    "var = 3.1234567\n",
    "var2 = 6.40394803\n",
    "my_string = f\"The variable is var: {var*2:.2f} and var2: {var2%2:.2f}\"\n",
    "print(my_string)\n",
    "#introduced arguments into {var multiply *2 then truncate 2 decimals spaces},\n",
    "#{var2 mod2 then truncate}"
   ]
  },
  {
   "cell_type": "code",
   "execution_count": null,
   "metadata": {},
   "outputs": [],
   "source": [
    "#collections: Counter, namedtuple, OrderedDict, defaultdict, deque\n",
    "from collections import Counter\n",
    "n = \"aaaaaaabbbbbbccccc\"\n",
    "my_counter = Counter(n)\n",
    "print(my_counter)\n",
    "print(my_counter.most_common(1)[0][0])\n",
    "\n",
    "a = \"aaaaaaabbbbbbccccc\"\n",
    "my_counter = Counter(a)\n",
    "print(my_counter.items())\n",
    "\n",
    "b = \"aaaaaaabbbbbbccccc\"\n",
    "my_counter = Counter(b)\n",
    "print(my_counter.keys())\n",
    "\n",
    "c = \"aaaaaaabbbbbbccccc\"\n",
    "my_counter = Counter(c)\n",
    "print(my_counter.values())"
   ]
  },
  {
   "cell_type": "code",
   "execution_count": null,
   "metadata": {},
   "outputs": [],
   "source": [
    "#itertools: product, permutations, combinations, accumlate, groupby, and infinite iterators\n",
    "from itertools import product\n",
    "a = [1,2]\n",
    "b = [3]\n",
    "prod = product(a,b, repeat=2)\n",
    "print(list(prod))\n"
   ]
  },
  {
   "cell_type": "code",
   "execution_count": null,
   "metadata": {},
   "outputs": [],
   "source": [
    "from itertools import permutations\n",
    "a = [1,2,3]\n",
    "perm = permutations(a, 2)\n",
    "print(list(perm))"
   ]
  },
  {
   "cell_type": "code",
   "execution_count": null,
   "metadata": {},
   "outputs": [],
   "source": [
    "from itertools import combinations\n",
    "a = [1,2,3,4]\n",
    "comb = combinations(a, 2)\n",
    "print(list(comb))"
   ]
  },
  {
   "cell_type": "code",
   "execution_count": null,
   "metadata": {},
   "outputs": [],
   "source": [
    "from itertools import combinations, combinations_with_replacement\n",
    "a = [1,2,3,4]\n",
    "comb = combinations(a, 2)\n",
    "print(list(comb))\n",
    "comb_wr = combinations_with_replacement(a, 2)\n",
    "print(list(comb_wr))"
   ]
  },
  {
   "cell_type": "code",
   "execution_count": null,
   "metadata": {},
   "outputs": [],
   "source": [
    "from itertools import accumulate\n",
    "import operator\n",
    "a = [1,2,3,4]\n",
    "acc = accumulate(a)\n",
    "#acc = accumulate(a, func=max) You can add arguments to a in accumulate.\n",
    "print(a)\n",
    "print(list(acc))"
   ]
  },
  {
   "cell_type": "code",
   "execution_count": null,
   "metadata": {},
   "outputs": [],
   "source": [
    "from itertools import groupby\n",
    "\n",
    "def smaller_than_3(x):\n",
    "    return x < 3\n",
    "a =[1, 2, 3, 4]\n",
    "group_obj = groupby(a, key=smaller_than_3)\n",
    "for key, value in group_obj:\n",
    "    print(key, list(value))\n",
    "#must insert list or else will print object, True <itertools._grouper object at 0x7f59>\n",
    "\n"
   ]
  },
  {
   "cell_type": "code",
   "execution_count": null,
   "metadata": {},
   "outputs": [],
   "source": [
    "! pip install jupyterthemes"
   ]
  },
  {
   "cell_type": "code",
   "execution_count": null,
   "metadata": {},
   "outputs": [],
   "source": [
    "! jt -t monokai"
   ]
  },
  {
   "cell_type": "code",
   "execution_count": null,
   "metadata": {},
   "outputs": [],
   "source": [
    "from itertools import groupby\n",
    "\n",
    "persons = [{'name': 'Tim', 'age': 25}, {'name': 'Dan', 'age': 25},\n",
    "          {'name': 'Lisa', 'age':27}, {'name': 'Claire', 'age': 28}]\n",
    "\n",
    "group_obj = groupby(persons, key=lambda x: x['age'])\n",
    "for key, value in group_obj:\n",
    "    print(key, list(value))\n",
    "    "
   ]
  },
  {
   "cell_type": "code",
   "execution_count": null,
   "metadata": {},
   "outputs": [],
   "source": [
    "# bad code don't run\n",
    "from itertools import count, cycle, repeat\n",
    "\n",
    "for i in count(1000):\n",
    "    print(i)\n",
    "    if i == 1000:\n",
    "        break\n",
    "#bad code"
   ]
  },
  {
   "cell_type": "markdown",
   "metadata": {},
   "source": [
    "## **Lambda - arguments:expressions**"
   ]
  },
  {
   "cell_type": "code",
   "execution_count": null,
   "metadata": {},
   "outputs": [],
   "source": [
    "add10 = lambda x: x + 10\n",
    "print(add10(5))\n",
    "\n",
    "def add10_func(x):\n",
    "    return x + 10\n",
    "#These 2 functions do the same thing"
   ]
  },
  {
   "cell_type": "code",
   "execution_count": null,
   "metadata": {},
   "outputs": [],
   "source": [
    "mult = lambda x,y: x+y\n",
    "print(mult(2,7))"
   ]
  },
  {
   "cell_type": "code",
   "execution_count": null,
   "metadata": {},
   "outputs": [],
   "source": [
    "points2D = [(1,2), (15,1), (5,-1), (10,4)]\n",
    "points2D_sorted = sorted(points2D, key=lambda x: x[0] + x[1])\n",
    "\n",
    "print(points2D)\n",
    "print(points2D_sorted)\n"
   ]
  },
  {
   "cell_type": "code",
   "execution_count": null,
   "metadata": {},
   "outputs": [],
   "source": [
    "#lambda\n",
    "#map(func, seq)\n",
    "a = [1, 2, 3, 4, 5]\n",
    "b = map(lambda x: x+2, a)\n",
    "print(list(b))\n",
    "\n",
    "c = [x+2 for x in a]\n",
    "print(c)\n",
    "#list comprehension is less code than lambda in this case"
   ]
  },
  {
   "cell_type": "markdown",
   "metadata": {},
   "source": [
    "# HELLO"
   ]
  },
  {
   "cell_type": "code",
   "execution_count": null,
   "metadata": {},
   "outputs": [],
   "source": [
    "#filter\n",
    "a = [1, 2, 3, 4, 5, 6]\n",
    "b = filter(lambda x: x%2==0, a)\n",
    "print(list(b))\n",
    "\n",
    "c = [x for x in a if x%2==0]\n",
    "print(c)\n",
    "#list comprehension much shorter than lambda function in this example"
   ]
  },
  {
   "cell_type": "code",
   "execution_count": null,
   "metadata": {},
   "outputs": [],
   "source": [
    "#reduce lambda function\n",
    "from functools import reduce\n",
    "a = [1, 2, 3, 4]\n",
    "\n",
    "product_a = reduce(lambda x,y: x*y, a)\n",
    "print(product_a)\n"
   ]
  },
  {
   "cell_type": "code",
   "execution_count": null,
   "metadata": {},
   "outputs": [],
   "source": [
    "#Errors and Exceptions\n",
    "try:\n",
    "    a = 5 / 0\n",
    "except Exception as e:\n",
    "    print(e)\n",
    "    "
   ]
  },
  {
   "cell_type": "code",
   "execution_count": null,
   "metadata": {},
   "outputs": [],
   "source": [
    "try:\n",
    "    a = 5 / 1\n",
    "    b = a + '10'\n",
    "except ZeroDivisionError as e:\n",
    "    print(e)\n",
    "except TypeError as e:\n",
    "    print(e)\n",
    "    "
   ]
  },
  {
   "cell_type": "code",
   "execution_count": null,
   "metadata": {},
   "outputs": [],
   "source": [
    "try:\n",
    "    a = 5 / 0\n",
    "    b = a + '10'\n",
    "except ZeroDivisionError as e:\n",
    "    print(e)\n",
    "except TypeError as e:\n",
    "    print(e)\n",
    "else:\n",
    "    print('Everything is fine')\n",
    "finally:\n",
    "    print('cleaning up....')"
   ]
  },
  {
   "cell_type": "code",
   "execution_count": null,
   "metadata": {},
   "outputs": [],
   "source": [
    "class ValueTooHighError(Exception):\n",
    "    pass\n",
    "\n",
    "class ValueTooSmallError(Exception):\n",
    "    def __init__(self, message, value):\n",
    "        self.message = message\n",
    "        self.value = value\n",
    "        \n",
    "def test_value(x):\n",
    "    if x > 100:\n",
    "        raise ValueTooHighError('value is too high')\n",
    "    elif x < 5:\n",
    "        raise ValueTooSmallError('value is too small')\n",
    "\n",
    "try:\n",
    "    test_value(150)\n",
    "except ValueTooHighError as e:\n",
    "    print(e)\n",
    "except ValueTooSmallError as e:\n",
    "    print(e.message, e.value)\n",
    "    #code error need to fix later"
   ]
  },
  {
   "cell_type": "code",
   "execution_count": null,
   "metadata": {},
   "outputs": [],
   "source": [
    "#logging in Python\n",
    "import logging\n",
    "#too much complex shit man i'll be back to this topic some other day"
   ]
  },
  {
   "cell_type": "code",
   "execution_count": null,
   "metadata": {},
   "outputs": [],
   "source": [
    "import random\n",
    "a = random.uniform(1,10)\n",
    "print(a)\n",
    "#prints a random float 1-10"
   ]
  },
  {
   "cell_type": "code",
   "execution_count": null,
   "metadata": {},
   "outputs": [],
   "source": [
    "import random\n",
    "\n",
    "mylist = list(\"ABCDEFGHIGJKLMOPQRSTUVWXYZ\")\n",
    "a = random.sample(mylist, 5)\n",
    "print(a)\n",
    "#pick a random sample"
   ]
  },
  {
   "cell_type": "code",
   "execution_count": null,
   "metadata": {},
   "outputs": [],
   "source": [
    "import secrets\n",
    "a = secrets.randbits(4)\n",
    "#highest possible using 4 bits is 1111 which equals 15 (hex i think) \n",
    "#generates a truly random number from 0-15 in this case\n",
    "print(a)\n",
    "\n",
    "b = secrets.randbelow(10)\n",
    "print(b)\n",
    "\n",
    "mylist = list(\"ABCDEFG\")\n",
    "c = secrets.choice(mylist)\n",
    "print(c)\n",
    "\n",
    "\n"
   ]
  },
  {
   "cell_type": "code",
   "execution_count": null,
   "metadata": {},
   "outputs": [],
   "source": [
    "import numpy as np\n",
    "a = np.random.rand(3,3)\n",
    "print(a)\n",
    "#3D arrary"
   ]
  },
  {
   "cell_type": "code",
   "execution_count": null,
   "metadata": {},
   "outputs": [],
   "source": [
    "import numpy as np\n",
    "a = np.random.randint(8,10, (3,4))\n",
    "print(a)"
   ]
  },
  {
   "cell_type": "code",
   "execution_count": null,
   "metadata": {},
   "outputs": [],
   "source": [
    "import numpy as np\n",
    "\n",
    "arr = np.array([[1,2,3], [4,5,6], [7,8,9]])\n",
    "print(arr)\n",
    "np.random.shuffle(arr)\n",
    "print(arr)"
   ]
  },
  {
   "cell_type": "code",
   "execution_count": null,
   "metadata": {},
   "outputs": [],
   "source": [
    "import numpy as np\n",
    "\n",
    "np.random.seed(1)\n",
    "print(np.random.rand(3,3))\n",
    "np.random.seed(1)\n",
    "print(np.random.rand(3,3))"
   ]
  },
  {
   "cell_type": "code",
   "execution_count": null,
   "metadata": {},
   "outputs": [],
   "source": [
    "#Decorators Function Decorators and Class Decorators\n",
    "def start_end_decorator(func):\n",
    "    \n",
    "    def wrapper():\n",
    "        print('Start') #decorator being applied before and after function\n",
    "        func()\n",
    "        print('End')#decorator function\n",
    "    return wrapper\n",
    "@start_end_decorator\n",
    "def print_name():\n",
    "    print('Alex')\n",
    "    \n",
    "#print_name = start_end_decorator(print_name) don't need this because of decorator\n",
    "\n",
    "print_name()"
   ]
  },
  {
   "cell_type": "code",
   "execution_count": null,
   "metadata": {},
   "outputs": [],
   "source": [
    "import functools\n",
    "\n",
    "def my_decorator(func): #start template\n",
    "    \n",
    "    @functools.wraps(func) \n",
    "    def wrapper(*args, **kwargs):\n",
    "        #print('Start') do something\n",
    "        result = func(*args, **kwargs)\n",
    "        #print('End') do something\n",
    "        return result\n",
    "    return wrapper #end template\n",
    "\n",
    "@start_end_decorator\n",
    "def add5(x):\n",
    "    return x + 5\n",
    "#print_name = start_end_decorator(print_name)\n",
    "#result = add5(10)\n",
    "#print(result)\n",
    "print(help(add5))\n",
    "print(add5.__name__)"
   ]
  },
  {
   "cell_type": "code",
   "execution_count": null,
   "metadata": {},
   "outputs": [],
   "source": [
    "import functools\n",
    "\n",
    "def repeat(num_times):\n",
    "    def decorator_repeat(func):\n",
    "        @functools.wraps(func)\n",
    "        def wrapper(*args, **kwargs):\n",
    "            for _ in range(num_times):\n",
    "                result = func(*args, **kwargs)\n",
    "            return result\n",
    "        return wrapper\n",
    "    return decorator_repeat\n",
    "@repeat(num_times=3)\n",
    "def greet(name):\n",
    "    print(f'Hello {name}')\n",
    "    \n",
    "greet('Alex')\n",
    "          "
   ]
  },
  {
   "cell_type": "code",
   "execution_count": null,
   "metadata": {},
   "outputs": [],
   "source": [
    "class CountCalls:\n",
    "    \n",
    "    def __init__(self, func):\n",
    "        self.func = func\n",
    "        self.num_calls = 0\n",
    "        \n",
    "    def __call__(self, *args, **kwargs):\n",
    "        self.num_calls += 1\n",
    "        print(f'This is executed {self.num_calls} times')\n",
    "        return self.func(*args, **kwargs)\n",
    "    \n",
    "@CountCalls\n",
    "def say_hello():\n",
    "    print('Hello')\n",
    "say_hello()\n",
    "say_hello()\n",
    "say_hello()\n",
    "        "
   ]
  },
  {
   "cell_type": "code",
   "execution_count": null,
   "metadata": {},
   "outputs": [],
   "source": [
    "def mygenerator():\n",
    "    yield 1\n",
    "    yield 2\n",
    "    yield 3\n",
    "    \n",
    "g = mygenerator()\n",
    "print(sum(g))"
   ]
  },
  {
   "cell_type": "code",
   "execution_count": null,
   "metadata": {},
   "outputs": [],
   "source": [
    "def countdown(num):\n",
    "    print('Starting')\n",
    "    while num > 0:\n",
    "        yield num\n",
    "        num -= 1\n",
    "cd = countdown(4)\n",
    "value = next(cd)\n",
    "print(value)\n",
    "\n",
    "print(next(cd))\n",
    "print(next(cd))\n",
    "print(next(cd))\n",
    "#print(next(cd))\n"
   ]
  },
  {
   "cell_type": "code",
   "execution_count": null,
   "metadata": {},
   "outputs": [],
   "source": [
    "#Generators mucho faster\n",
    "\n",
    "import sys\n",
    "\n",
    "def firstn(n):\n",
    "    nums = []\n",
    "    nums = 0\n",
    "    while num < n:\n",
    "        nums.append(num)\n",
    "        num += 1\n",
    "    return nums\n",
    "        \n",
    "def n_generator(n):\n",
    "    num = 0\n",
    "    while num < n:\n",
    "        yield num\n",
    "        num += 1\n",
    "        \n",
    "print(sys.getsizeof(firstn(10)))\n",
    "print(sys.getsizeof(n_generator(10)))"
   ]
  },
  {
   "cell_type": "code",
   "execution_count": null,
   "metadata": {},
   "outputs": [],
   "source": [
    "#Generators: Fibasnachi ie. 0 1 1 2 3 5 8 13...\n",
    "def fibonacci(limit):\n",
    "    \n",
    "    a, b = 0, 1\n",
    "    while a < limit:\n",
    "        yield a\n",
    "        a, b = b, a + b\n",
    "        \n",
    "fib = fibonacci(30)\n",
    "for i in fib:\n",
    "    print(i)\n",
    "        \n",
    "        \n",
    "    "
   ]
  },
  {
   "cell_type": "code",
   "execution_count": null,
   "metadata": {},
   "outputs": [],
   "source": [
    "import sys\n",
    "mygenerator = (i for i in range(100000) if i % 2 == 0)\n",
    "print(sys.getsizeof(mygenerator))\n",
    "\n",
    "mylist = [i for i in range(100000) if i % 2 == 0]\n",
    "print(sys.getsizeof(mylist))"
   ]
  },
  {
   "cell_type": "code",
   "execution_count": null,
   "metadata": {},
   "outputs": [],
   "source": [
    "from multiprocessing import Process\n",
    "import os\n",
    "\n",
    "def square_numbers():\n",
    "    for i in range(100):\n",
    "        i * i\n",
    "        \n",
    "processes = []\n",
    "num_processes = os.cpu_count()\n",
    "\n",
    "#create processes\n",
    "for i in range(num_processes):\n",
    "    p = Process(target=square_numbers)\n",
    "    processes.append(p)\n",
    "    \n",
    "# start\n",
    "for p in processes:\n",
    "    p.start()\n",
    "    \n",
    "#join\n",
    "for p in processes:\n",
    "    p.join()\n",
    "\n",
    "print('end main')\n",
    "\n"
   ]
  },
  {
   "cell_type": "code",
   "execution_count": null,
   "metadata": {},
   "outputs": [],
   "source": [
    "from threading import Thread\n",
    "import os\n",
    "import time\n",
    "\n",
    "def square_numbers():\n",
    "    for i in range(100):\n",
    "        i * i\n",
    "        time.sleep(0.1)\n",
    "        \n",
    "threads = []\n",
    "num_threads = 5\n",
    "\n",
    "#create processes\n",
    "for i in range(num_threads):\n",
    "    t = Thread(target=square_numbers)\n",
    "    threads.append(t)\n",
    "    \n",
    "# start\n",
    "for t in threads:\n",
    "    t.start()\n",
    "    \n",
    "#join\n",
    "for t in threads:\n",
    "    t.join()\n",
    "\n",
    "print('end main')"
   ]
  },
  {
   "cell_type": "code",
   "execution_count": null,
   "metadata": {},
   "outputs": [],
   "source": [
    "from threading import Thread, Lock\n",
    "from queue import Queue\n",
    "import time\n",
    "\n",
    "if __name__ == \"__main__\":\n",
    "\n",
    "    q = Queue()\n",
    "    \n",
    "    q.put(1)\n",
    "    q.put(2)\n",
    "    q.put(3)\n",
    "    #3 2 1 -->\n",
    "    first = q.get()\n",
    "    print(first)\n",
    "    \n",
    "    q.task_done()\n",
    "    q.join()\n",
    "    \n",
    "    print('end main')"
   ]
  },
  {
   "cell_type": "code",
   "execution_count": null,
   "metadata": {},
   "outputs": [],
   "source": [
    "from threading import Thread, Lock, current_thread\n",
    "from queue import Queue\n",
    "import time\n",
    "\n",
    "def worker(q, lock):\n",
    "    while True:\n",
    "        value = q.get()\n",
    "        #processing...\n",
    "        with lock:\n",
    "            print(f'in {current_thread().name} got {value}')\n",
    "        q.task_done()\n",
    "        \n",
    "if __name__ == \"__main__\":\n",
    "    \n",
    "    q = Queue()\n",
    "    lock = Lock()\n",
    "    num_threads = 10\n",
    "    \n",
    "    for i in range(num_threads):\n",
    "        thread = Thread(target=worker, args=(q, lock))\n",
    "        thread.daemon=False\n",
    "        thread.start()\n",
    "        \n",
    "    for i in range(1, 21):\n",
    "        q.put(i)\n",
    "        \n",
    "    q.join()\n",
    "    \n",
    "    print('end main')\n",
    "        \n",
    "    "
   ]
  },
  {
   "cell_type": "code",
   "execution_count": null,
   "metadata": {},
   "outputs": [],
   "source": [
    "import multiprocessing import Process, Value, Array, Lock\n",
    "import time\n",
    "\n",
    "def add_100(number, lock):\n",
    "    for i in range(100):\n",
    "        time.sleep(0.01)\n",
    "        #or use the following lock method delete other values if used\n",
    "        #with lock:\n",
    "            #number.value += 1\n",
    "        lock.acquire()\n",
    "        number.value += 1\n",
    "        lock.release()\n",
    "       \n",
    "\n",
    "if __name__ == \"__main__\":\n",
    "    \n",
    "    lock = Lock()\n",
    "    shared_number = Value('i', 0)\n",
    "    print('Number at beginning is', shared_number.value)\n",
    "    \n",
    "    p1 = Process(target=add_100, args=(shared_number, lock))\n",
    "    p2 = Process(target=add_100, args=(shared_number, lock))\n",
    "    \n",
    "    p1.start()\n",
    "    p2.start()\n",
    "    \n",
    "    p1.join()\n",
    "    p2.join()\n",
    "    \n",
    "print('end main')\n",
    "    "
   ]
  },
  {
   "cell_type": "code",
   "execution_count": null,
   "metadata": {},
   "outputs": [],
   "source": [
    "# functions global variables\n",
    "def foo():\n",
    "    global number\n",
    "    number = 3\n",
    "    \n",
    "number = 0\n",
    "foo()\n",
    "print(number)"
   ]
  },
  {
   "cell_type": "code",
   "execution_count": null,
   "metadata": {},
   "outputs": [],
   "source": [
    "#*** What does the Astericks do in Python?\n",
    "result = 2 ** 4\n",
    "print(result) #2 to the power of 4\n",
    "#-------------------------------------------------\n",
    "zeros = [0] * 10\n",
    "print(zeros)\n",
    "#-------------------------------------------------\n",
    "zeros = [10, 1] * 10\n",
    "print(zeros)\n",
    "#----------------------------------------------------\n",
    "zeros = \"ABC\" * 10\n",
    "print(zeros)\n",
    "#----------------------------------------------------\n",
    "#merge dicts\n",
    "dict_a = {'a':1, 'b': 2}\n",
    "dict_b = {'c': 3, 'd': 4}\n",
    "my_dict = {**dict_a, **dict_b}\n",
    "print(my_dict)\n"
   ]
  },
  {
   "cell_type": "code",
   "execution_count": null,
   "metadata": {},
   "outputs": [],
   "source": [
    " # *args, **kwargs\n",
    "def foo(a, b, *args, **kwargs):\n",
    "    print(a, b)\n",
    "    for arg in args:\n",
    "        print(arg)\n",
    "    for key in kwargs:\n",
    "        print(key, kwargs[key])\n",
    "        \n",
    "foo(1, 2, 3, 4, 5, six=6, seven=7)\n"
   ]
  },
  {
   "cell_type": "code",
   "execution_count": null,
   "metadata": {},
   "outputs": [],
   "source": [
    "def foo(a, b, *, c):\n",
    "    print(a, b, c)\n",
    "    \n",
    "foo(1, 2, c=3)\n",
    "#------------------------------------------------------------------\n",
    "#dict unwrapping with **\n",
    "def foo(a, b, c):\n",
    "    print(a, b, c)\n",
    "    \n",
    "my_dict = {'a': 1, 'b': 2, 'c': 3}\n",
    "foo(**my_dict)\n",
    "#name of key must match name of params only for a dict\n",
    "\n"
   ]
  },
  {
   "cell_type": "code",
   "execution_count": null,
   "metadata": {},
   "outputs": [],
   "source": [
    "#copying\n",
    "# -shallow copy: one level deep, only references of nested child objects\n",
    "# -deep copy: full independent copy\n",
    "import copy\n",
    "org = [0, 1, 2, 3, 4]\n",
    "cpy = copy.copy(org)\n",
    "cpy[0] = -10\n",
    "print(cpy)\n",
    "print(org)\n",
    "#-------------------------------------------\n",
    "import copy\n",
    "org = [0, 1, 2, 3, 4]\n",
    "cpy = org[:1]\n",
    "cpy[0] = -10\n",
    "print(cpy)\n",
    "#print(org)\n",
    "#-------------------------------------------\n",
    "#deep copy\n",
    "import copy\n",
    "org = [[0, 1, 2, 3, 4], [5, 6, 7, 8,9]]\n",
    "cpy = copy.deepcopy(org)\n",
    "cpy[0][1] = -10\n",
    "print(cpy)\n",
    "#print(org)\n",
    "\n"
   ]
  },
  {
   "cell_type": "code",
   "execution_count": null,
   "metadata": {},
   "outputs": [],
   "source": [
    "#class copy, to add deep = copy.deepcopy\n",
    "import copy\n",
    "class Person:\n",
    "    def __init__(self, name, age):\n",
    "        self.name = name\n",
    "        self.age = age\n",
    "\n",
    "class Company:\n",
    "    def __init__(self, boss, employee):\n",
    "        self.boss = boss\n",
    "        self.employee = employee\n",
    "        \n",
    "p1 = Person('Vorkampfer', 47)\n",
    "p2 = Person('Joe', 27)\n",
    "\n",
    "company = Company(p1, p2)\n",
    "company_clone = copy.deepcopy(company)\n",
    "company_clone.boss.age = 56\n",
    "print(company_clone.boss.age)\n",
    "print(company.boss.age)\n",
    "\n",
    "# p2.age = 28\n",
    "# print(p2.age)\n",
    "# print(p1.age)"
   ]
  },
  {
   "cell_type": "code",
   "execution_count": null,
   "metadata": {},
   "outputs": [],
   "source": [
    "#I think i already did this one, well here it is again\n",
    "import copy\n",
    "org = [[0, 1, 2, 3, 4], [5, 6, 7, 8, 9]]\n",
    "cpy = copy.deepcopy(org)\n",
    "cpy[0][1] = -10\n",
    "print(cpy)\n",
    "print(org)\n"
   ]
  },
  {
   "cell_type": "code",
   "execution_count": null,
   "metadata": {},
   "outputs": [],
   "source": [
    "#context manager\n",
    "with open('notes2.txt', 'w') as file:\n",
    "    file.write('I am fucking awesome! WTF')\n",
    "    \n",
    "#--------------------------------------------\n",
    "file = open('notes2.txt', 'w')\n",
    "try:\n",
    "    file.write('some todoo....')\n",
    "finally:\n",
    "    file.close()\n",
    "    \n",
    "    \n",
    "    \n",
    "    \n",
    "    "
   ]
  },
  {
   "cell_type": "code",
   "execution_count": null,
   "metadata": {},
   "outputs": [],
   "source": [
    "from threading import Lock\n",
    "Lock = Lock()\n",
    "\n",
    "Lock.acquire()\n",
    "#...\n",
    "Lock.release()\n",
    "#must have lock release if not won't run\n",
    "#the following is a better way to excecute same code\n",
    "#with Lock:\n",
    "    #..."
   ]
  },
  {
   "cell_type": "code",
   "execution_count": null,
   "metadata": {},
   "outputs": [],
   "source": [
    "class ManagedFile:\n",
    "    def __init__(self, filename):\n",
    "        print('init')\n",
    "        self.filename = filename\n",
    "        \n",
    "    def __enter__(self):\n",
    "        print('enter')\n",
    "        self.file = open(self.filename, 'w')\n",
    "        return self.file\n",
    "        \n",
    "        \n",
    "    def __exit__(self, exc_type, exc_value, exc_traceback):\n",
    "        if self.file:\n",
    "            self.file.close()\n",
    "        if exc_type is not None:\n",
    "            print('exception has been handled') #file.somemethod has been mitigated\n",
    "        #print('exc:', exc_type, exc_value)\n",
    "        print('exit')\n",
    "        return True\n",
    "class Person():\n",
    "# \t#...\n",
    "# \t@classmethod\n",
    "# \tdef from_csv(cls, filename):\n",
    "# \t\treturn cls(*params) #this is the same as calling Person(*params)\n",
    "\n",
    "# Person.from_csv(my_csv)\n",
    "with ManagedFile('notes3.txt') as file:\n",
    "    print('creating csv or txt notes3...')\n",
    "    file.write('this is a managed file...')\n",
    "    file.somemethod() #this will raise an exception error\n",
    "print('code execution continued')#file will still be closed "
   ]
  },
  {
   "cell_type": "code",
   "execution_count": null,
   "metadata": {},
   "outputs": [],
   "source": [
    "# easy\n",
    "#This is a tuple I am iterating over\n",
    "for x in ('a', 'b', 'c', 7):\n",
    "    print(x)"
   ]
  },
  {
   "cell_type": "code",
   "execution_count": 1,
   "metadata": {},
   "outputs": [],
   "source": [
    "class Rectangle:\n",
    "    def __init__(self, width, height):\n",
    "        self.width = width\n",
    "        self.height = height\n",
    "        \n",
    "    def area(self):\n",
    "        return self.width * self.height\n",
    "    \n",
    "    def perimeter(self):\n",
    "        return 2 * (self.width * self.height)\n",
    "    \n",
    "    def __str__(self):\n",
    "        return 'Rectangle: width={0}, height={1}'.format(self.width, self.height)\n",
    "    \n",
    "    def __repr__(self):\n",
    "        return 'Rectangle({0}, {1})'.format(self.width, self.height)\n",
    "    \n",
    "    def __eq__(self, other):\n",
    "        return self.width == other.width and self.height == other.height\n",
    "    \n",
    "    "
   ]
  },
  {
   "cell_type": "code",
   "execution_count": 2,
   "metadata": {},
   "outputs": [],
   "source": [
    "r1 = Rectangle(10, 20)\n",
    "r2 = Rectangle(10, 20)"
   ]
  },
  {
   "cell_type": "code",
   "execution_count": 3,
   "metadata": {},
   "outputs": [
    {
     "data": {
      "text/plain": [
       "True"
      ]
     },
     "execution_count": 3,
     "metadata": {},
     "output_type": "execute_result"
    }
   ],
   "source": [
    "r1 is not r2"
   ]
  },
  {
   "cell_type": "code",
   "execution_count": 4,
   "metadata": {},
   "outputs": [
    {
     "data": {
      "text/plain": [
       "True"
      ]
     },
     "execution_count": 4,
     "metadata": {},
     "output_type": "execute_result"
    }
   ],
   "source": [
    "r1 == r2"
   ]
  },
  {
   "cell_type": "code",
   "execution_count": null,
   "metadata": {},
   "outputs": [],
   "source": []
  }
 ],
 "metadata": {
  "kernelspec": {
   "display_name": "Python 3",
   "language": "python",
   "name": "python3"
  },
  "language_info": {
   "codemirror_mode": {
    "name": "ipython",
    "version": 3
   },
   "file_extension": ".py",
   "mimetype": "text/x-python",
   "name": "python",
   "nbconvert_exporter": "python",
   "pygments_lexer": "ipython3",
   "version": "3.8.5"
  }
 },
 "nbformat": 4,
 "nbformat_minor": 4
}

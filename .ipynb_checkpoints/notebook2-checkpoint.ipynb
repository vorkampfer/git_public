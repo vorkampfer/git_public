{
 "cells": [
  {
   "cell_type": "markdown",
   "metadata": {},
   "source": [
    "## Python3: Beginner level, Tuples, Sets, Lists,\n",
    "## Dictionaries, Variables, Iterables, For loops, \n",
    "## Try:Except  Blocks, While loops, functions (def), etc..."
   ]
  },
  {
   "cell_type": "code",
   "execution_count": null,
   "metadata": {},
   "outputs": [],
   "source": [
    "for x in ('a', 'b', 'c', 10):\n",
    "    print(x)"
   ]
  },
  {
   "cell_type": "code",
   "execution_count": null,
   "metadata": {},
   "outputs": [],
   "source": [
    "for x in [(1, 2), (3, 4), (5, 6)]:\n",
    "    print(x)"
   ]
  },
  {
   "cell_type": "code",
   "execution_count": null,
   "metadata": {},
   "outputs": [],
   "source": [
    "for i in range(5):\n",
    "    if i == 3:\n",
    "        continue\n",
    "    print(i)\n"
   ]
  },
  {
   "cell_type": "code",
   "execution_count": null,
   "metadata": {},
   "outputs": [],
   "source": [
    "for i in range(1, 5):\n",
    "    print(i)\n",
    "    if i % 7 == 0:\n",
    "        print('multiple of 7 found')\n",
    "        break\n",
    "else:\n",
    "    print('no multiple of 7 in this range')"
   ]
  },
  {
   "cell_type": "code",
   "execution_count": null,
   "metadata": {},
   "outputs": [],
   "source": [
    "s = 'hello'\n",
    "for c in s:\n",
    "    print(c)"
   ]
  },
  {
   "cell_type": "code",
   "execution_count": null,
   "metadata": {},
   "outputs": [],
   "source": [
    "s = 'hello'\n",
    "i = 0\n",
    "for c in s:\n",
    "    print(i, c)\n",
    "    i += 1"
   ]
  },
  {
   "cell_type": "code",
   "execution_count": null,
   "metadata": {},
   "outputs": [],
   "source": [
    "s = 'hello'\n",
    "\n",
    "for i in range(len(s)):\n",
    "    print(i, s[i])"
   ]
  },
  {
   "cell_type": "code",
   "execution_count": null,
   "metadata": {},
   "outputs": [],
   "source": [
    "s = 'hello'\n",
    "\n",
    "for i, c in enumerate(s):\n",
    "    print(i, c)"
   ]
  },
  {
   "cell_type": "code",
   "execution_count": null,
   "metadata": {},
   "outputs": [],
   "source": [
    "#Every object aka variable defined is allocated a slot in\n",
    "#memory called the Heap\n",
    "variable = 15\n",
    "print(hex(id(variable)))"
   ]
  },
  {
   "cell_type": "code",
   "execution_count": null,
   "metadata": {},
   "outputs": [],
   "source": [
    "#Every object aka variable defined is allocated a slot in\n",
    "#memory called the Heap\n",
    "#Bottom line, variables are bits of data (zeros and ones) creating bytes.\n",
    "#(8 bits = 1 byte) of data. Which are stored in memory addresses.\n",
    "variable_2 = 10\n",
    "print(hex(id(variable_2)))"
   ]
  },
  {
   "cell_type": "code",
   "execution_count": null,
   "metadata": {},
   "outputs": [],
   "source": [
    "#However, variables can claim the same memory address location\n",
    "my_var = 10\n",
    "print(hex(id(my_var)))\n",
    "#----------------------------------\n",
    "other_var = my_var\n",
    "print(hex(id(other_var)))"
   ]
  },
  {
   "cell_type": "code",
   "execution_count": null,
   "metadata": {},
   "outputs": [],
   "source": [
    "import ctypes\n",
    "variable_3 = 1000\n",
    "def ref_count(address: int):\n",
    "    return ctypes.c_long.from_address(address).value\n",
    " \n",
    "ref_count(id(variable_3))\n"
   ]
  },
  {
   "cell_type": "code",
   "execution_count": null,
   "metadata": {},
   "outputs": [],
   "source": [
    "import ctypes\n",
    "variable_4 = 1000\n",
    "def ref_count(address: int):\n",
    "    return ctypes.c_long.from_address(address).value\n",
    " \n",
    "ref_count(id(variable_2))\n"
   ]
  },
  {
   "cell_type": "code",
   "execution_count": null,
   "metadata": {},
   "outputs": [],
   "source": [
    "#Manually run garbage collecter\n",
    "import gc\n",
    "gc.collect()"
   ]
  },
  {
   "cell_type": "code",
   "execution_count": null,
   "metadata": {},
   "outputs": [],
   "source": [
    "a = 'HELLO'"
   ]
  },
  {
   "cell_type": "code",
   "execution_count": null,
   "metadata": {},
   "outputs": [],
   "source": [
    "type(a)"
   ]
  },
  {
   "cell_type": "code",
   "execution_count": null,
   "metadata": {},
   "outputs": [],
   "source": [
    "a = 10\n",
    "type(a)"
   ]
  },
  {
   "cell_type": "code",
   "execution_count": null,
   "metadata": {},
   "outputs": [],
   "source": [
    "#Notice how (a) changes type as you assign it to a different class \n",
    "#first it was a str, then an int, then a function, then complex\n",
    "a = lambda x: x**2\n",
    "a(2)\n",
    "type(a)"
   ]
  },
  {
   "cell_type": "code",
   "execution_count": null,
   "metadata": {},
   "outputs": [],
   "source": [
    "a = 3 + 4j\n",
    "type(a)"
   ]
  },
  {
   "cell_type": "code",
   "execution_count": null,
   "metadata": {},
   "outputs": [],
   "source": [
    "#memory address changes here because we assigned same variable another object ???\n",
    "my_var = 10\n",
    "print(id(hex(my_var)))\n",
    "my_var = my_var + 5\n",
    "print(id(hex(my_var)))\n"
   ]
  },
  {
   "cell_type": "code",
   "execution_count": null,
   "metadata": {},
   "outputs": [],
   "source": [
    "my_list = [1, 2, 3]\n",
    "print(id(my_list))\n",
    "print(type(my_list))\n",
    "\n",
    "my_list.append(4)\n",
    "print(my_list)\n",
    "print(id(my_list))"
   ]
  },
  {
   "cell_type": "code",
   "execution_count": null,
   "metadata": {},
   "outputs": [],
   "source": [
    "#memory address does not change for dict. WE SHALL SEE\n",
    "my_dict = dict(key1=1, key2='a')\n",
    "id(my_dict)\n",
    "\n"
   ]
  },
  {
   "cell_type": "code",
   "execution_count": null,
   "metadata": {},
   "outputs": [],
   "source": [
    "my_dict['key3'] = 10.5"
   ]
  },
  {
   "cell_type": "code",
   "execution_count": null,
   "metadata": {},
   "outputs": [],
   "source": [
    "id(my_dict)"
   ]
  },
  {
   "cell_type": "code",
   "execution_count": null,
   "metadata": {},
   "outputs": [],
   "source": [
    "same_memory = True\n",
    "print(same_memory)"
   ]
  },
  {
   "cell_type": "code",
   "execution_count": null,
   "metadata": {},
   "outputs": [],
   "source": [
    "#tuple is immutable but the sets inside are mutable\n",
    "t = ([1, 2], [3, 4], [5, 6])\n",
    "t[2].append(7)\n",
    "print(t)"
   ]
  },
  {
   "cell_type": "code",
   "execution_count": null,
   "metadata": {},
   "outputs": [],
   "source": [
    "def modify_tuple(t):\n",
    "    print('Initial t # = {0}'.format(id(t)))\n",
    "    t[0].append(100)\n",
    "    print('Final t # = {0}'.format(id(t)))"
   ]
  },
  {
   "cell_type": "code",
   "execution_count": null,
   "metadata": {},
   "outputs": [],
   "source": [
    "my_tuple = ([1, 2], 'a')"
   ]
  },
  {
   "cell_type": "code",
   "execution_count": null,
   "metadata": {},
   "outputs": [],
   "source": [
    "id(my_tuple)"
   ]
  },
  {
   "cell_type": "code",
   "execution_count": null,
   "metadata": {},
   "outputs": [],
   "source": [
    "modify_tuple(my_tuple)"
   ]
  },
  {
   "cell_type": "code",
   "execution_count": null,
   "metadata": {},
   "outputs": [],
   "source": [
    "print(my_tuple)"
   ]
  },
  {
   "cell_type": "code",
   "execution_count": null,
   "metadata": {},
   "outputs": [],
   "source": [
    "# a is == equal to be but a is NOT b in memory\n",
    "a = [1, 2, 3]\n",
    "b = [1, 2, 3]\n",
    "id(a)"
   ]
  },
  {
   "cell_type": "code",
   "execution_count": null,
   "metadata": {},
   "outputs": [],
   "source": [
    "id(b)"
   ]
  },
  {
   "cell_type": "code",
   "execution_count": null,
   "metadata": {},
   "outputs": [],
   "source": [
    "print('a is b', a is b)\n",
    "print('a == b', a == b)"
   ]
  },
  {
   "cell_type": "code",
   "execution_count": null,
   "metadata": {},
   "outputs": [],
   "source": [
    "def my_func():\n",
    "    a = 24 * 60\n",
    "    b = (1, 2) * 5\n",
    "    c = 'abc' * 3\n",
    "    d = 'ab' * 11\n",
    "    e = 'the quick brown fox' * 5\n",
    "    f = ['a', 'b'] * 3"
   ]
  },
  {
   "cell_type": "code",
   "execution_count": null,
   "metadata": {},
   "outputs": [],
   "source": [
    "my_func.__code__.co_consts"
   ]
  },
  {
   "cell_type": "code",
   "execution_count": null,
   "metadata": {},
   "outputs": [],
   "source": [
    "def my_func(e):\n",
    "    if e in [1, 2, 3]:\n",
    "        pass"
   ]
  },
  {
   "cell_type": "code",
   "execution_count": null,
   "metadata": {},
   "outputs": [],
   "source": [
    "my_func.__code__.co_consts"
   ]
  },
  {
   "cell_type": "code",
   "execution_count": null,
   "metadata": {},
   "outputs": [],
   "source": [
    "def my_func(e):\n",
    "    if e in {1, 2, 3}:\n",
    "        pass"
   ]
  },
  {
   "cell_type": "code",
   "execution_count": null,
   "metadata": {},
   "outputs": [],
   "source": [
    "my_func.__code__.co_consts"
   ]
  },
  {
   "cell_type": "code",
   "execution_count": null,
   "metadata": {},
   "outputs": [],
   "source": [
    "import string\n",
    "import time"
   ]
  },
  {
   "cell_type": "code",
   "execution_count": null,
   "metadata": {},
   "outputs": [],
   "source": [
    "string.ascii_letters"
   ]
  },
  {
   "cell_type": "code",
   "execution_count": null,
   "metadata": {},
   "outputs": [],
   "source": [
    "char_list = list(string.ascii_letters)"
   ]
  },
  {
   "cell_type": "code",
   "execution_count": null,
   "metadata": {},
   "outputs": [],
   "source": [
    "char_tuple = tuple(string.ascii_letters)"
   ]
  },
  {
   "cell_type": "code",
   "execution_count": null,
   "metadata": {},
   "outputs": [],
   "source": [
    "char_set = set(string.ascii_letters)"
   ]
  },
  {
   "cell_type": "code",
   "execution_count": null,
   "metadata": {},
   "outputs": [],
   "source": [
    "print(char_list)\n"
   ]
  },
  {
   "cell_type": "code",
   "execution_count": null,
   "metadata": {},
   "outputs": [],
   "source": [
    "print(char_tuple)\n"
   ]
  },
  {
   "cell_type": "code",
   "execution_count": null,
   "metadata": {},
   "outputs": [],
   "source": [
    "print(char_set)"
   ]
  },
  {
   "cell_type": "code",
   "execution_count": null,
   "metadata": {},
   "outputs": [],
   "source": [
    "def membership_test(n, container):\n",
    "    for i in range(n):\n",
    "        if 'z' in container:\n",
    "            pass\n"
   ]
  },
  {
   "cell_type": "code",
   "execution_count": null,
   "metadata": {},
   "outputs": [],
   "source": [
    "start = time.perf_counter()\n",
    "membership_test(10000000, char_list)\n",
    "end = time.perf_counter()\n",
    "print('list: ', end-start)"
   ]
  },
  {
   "cell_type": "code",
   "execution_count": null,
   "metadata": {},
   "outputs": [],
   "source": [
    "start = time.perf_counter()\n",
    "membership_test(10000000, char_tuple)\n",
    "end = time.perf_counter()\n",
    "print('tuple: ', end-start)"
   ]
  },
  {
   "cell_type": "code",
   "execution_count": null,
   "metadata": {},
   "outputs": [],
   "source": [
    "# Way faster i guess\n",
    "start = time.perf_counter()\n",
    "membership_test(10000000, char_set)\n",
    "end = time.perf_counter()\n",
    "print('Set: ', end-start)"
   ]
  },
  {
   "cell_type": "code",
   "execution_count": null,
   "metadata": {},
   "outputs": [],
   "source": [
    "print(type(0))"
   ]
  },
  {
   "cell_type": "code",
   "execution_count": null,
   "metadata": {},
   "outputs": [],
   "source": [
    "import sys"
   ]
  },
  {
   "cell_type": "code",
   "execution_count": null,
   "metadata": {},
   "outputs": [],
   "source": [
    "sys.getsizeof(0)"
   ]
  },
  {
   "cell_type": "code",
   "execution_count": null,
   "metadata": {},
   "outputs": [],
   "source": [
    "sys.getsizeof(1)"
   ]
  },
  {
   "cell_type": "code",
   "execution_count": null,
   "metadata": {},
   "outputs": [],
   "source": [
    "sys.getsizeof(2**1000)"
   ]
  },
  {
   "cell_type": "code",
   "execution_count": null,
   "metadata": {},
   "outputs": [],
   "source": [
    "2**1000\n",
    "# Below is what 160 bits of data looks like"
   ]
  },
  {
   "cell_type": "code",
   "execution_count": null,
   "metadata": {},
   "outputs": [],
   "source": [
    "import math\n",
    "# mafs"
   ]
  },
  {
   "cell_type": "code",
   "execution_count": null,
   "metadata": {},
   "outputs": [],
   "source": [
    "math.floor(3.15)"
   ]
  },
  {
   "cell_type": "code",
   "execution_count": null,
   "metadata": {},
   "outputs": [],
   "source": [
    "math.floor(-3.999)\n"
   ]
  },
  {
   "cell_type": "code",
   "execution_count": null,
   "metadata": {},
   "outputs": [],
   "source": [
    "math.floor(-3.0000001)"
   ]
  },
  {
   "cell_type": "code",
   "execution_count": null,
   "metadata": {},
   "outputs": [],
   "source": [
    "#So many rulez I don't understand =(\n",
    "#This is because eventually a float has limited percision\n",
    "math.floor(-3.0000000000000001)"
   ]
  },
  {
   "cell_type": "code",
   "execution_count": null,
   "metadata": {},
   "outputs": [],
   "source": [
    "a = -33\n",
    "b = 16\n",
    "print(a/b)\n",
    "print(a//b)\n",
    "print(math.floor(a/b))\n",
    "print(math.trunc(a/b))"
   ]
  },
  {
   "cell_type": "code",
   "execution_count": null,
   "metadata": {},
   "outputs": [],
   "source": [
    "a = b * (a//b) + (a%b)"
   ]
  },
  {
   "cell_type": "code",
   "execution_count": null,
   "metadata": {},
   "outputs": [],
   "source": [
    "a = -13\n",
    "b = 4\n",
    "print('(0)/(1) = (2)'.format(a, b, a/b))\n",
    "print('(0)/(1) = (2)'.format(a, b, a//b))\n",
    "print('(0)/(1) = (2)'.format(a, b, a%b))\n",
    "print(a == b * (a//b) * (a%b))"
   ]
  },
  {
   "cell_type": "code",
   "execution_count": null,
   "metadata": {},
   "outputs": [],
   "source": [
    "import math\n",
    "a = 20\n",
    "math.isfinite(a)"
   ]
  },
  {
   "cell_type": "code",
   "execution_count": null,
   "metadata": {},
   "outputs": [],
   "source": [
    "print(math.isnan(a))"
   ]
  },
  {
   "cell_type": "markdown",
   "metadata": {},
   "source": [
    "## Slicing in Python"
   ]
  },
  {
   "cell_type": "code",
   "execution_count": null,
   "metadata": {},
   "outputs": [],
   "source": [
    "\n",
    "var_string = 'This line is for practicing my slicing.'\n",
    "print(var_string[::-1])"
   ]
  },
  {
   "cell_type": "code",
   "execution_count": null,
   "metadata": {},
   "outputs": [],
   "source": [
    "print(var_string[16::])"
   ]
  },
  {
   "cell_type": "code",
   "execution_count": null,
   "metadata": {},
   "outputs": [],
   "source": [
    "print(var_string[-8:-1:])"
   ]
  },
  {
   "cell_type": "code",
   "execution_count": null,
   "metadata": {},
   "outputs": [],
   "source": [
    "print(var_string[0::])"
   ]
  },
  {
   "cell_type": "code",
   "execution_count": null,
   "metadata": {},
   "outputs": [],
   "source": [
    "print(var_string[27:30:])"
   ]
  },
  {
   "cell_type": "code",
   "execution_count": null,
   "metadata": {},
   "outputs": [],
   "source": [
    "var_string.find('practicing')"
   ]
  },
  {
   "cell_type": "code",
   "execution_count": null,
   "metadata": {},
   "outputs": [],
   "source": [
    "var_string.index('practicing')"
   ]
  },
  {
   "cell_type": "code",
   "execution_count": null,
   "metadata": {},
   "outputs": [],
   "source": [
    "#counts total number of letters in string\n",
    "var_string.count('i')"
   ]
  },
  {
   "cell_type": "code",
   "execution_count": null,
   "metadata": {},
   "outputs": [],
   "source": [
    "var_string.upper()"
   ]
  },
  {
   "cell_type": "markdown",
   "metadata": {},
   "source": [
    "## Concatenation of strings"
   ]
  },
  {
   "cell_type": "code",
   "execution_count": null,
   "metadata": {},
   "outputs": [],
   "source": [
    "var1 = 'Hello'\n",
    "var2 = 'World'\n",
    "var3 = var1 + ' ' + var2\n",
    "print(var3)"
   ]
  },
  {
   "cell_type": "code",
   "execution_count": null,
   "metadata": {},
   "outputs": [],
   "source": [
    "print('My name is %s and my age is %i I am an International %s'%('Vorkampfer', 51, '$tuNNa!!!'))"
   ]
  },
  {
   "cell_type": "code",
   "execution_count": null,
   "metadata": {},
   "outputs": [],
   "source": [
    "#Replace method\n",
    "var1 = \"John plays foozball. John nancy boy plays golf.\"\n",
    "print(var1)\n",
    "var2 = input('current value to be replaced : ')\n",
    "var3 = input('Please enter the new value : ')\n",
    "var1.replace(var2,var3)\n"
   ]
  },
  {
   "cell_type": "code",
   "execution_count": null,
   "metadata": {},
   "outputs": [],
   "source": [
    "#Replace plus count method\n",
    "var1 = \"John plays foozball. John nancy boy plays golf.\"\n",
    "print(var1)\n",
    "var2 = input('current value to be replaced : ')\n",
    "var3 = input('Please enter the new value : ')\n",
    "\n",
    "count = input('Number of instances to be removed : ')\n",
    "var1.replace(var2,var3, int(count))"
   ]
  },
  {
   "cell_type": "code",
   "execution_count": null,
   "metadata": {},
   "outputs": [],
   "source": [
    "# .format() method kind of easy to understand just replacing values inside of {}\n",
    "# .format by integer\n",
    "user_name = 'Dirty Bill Gates'\n",
    "order_value = int(input('Please enter the order value : '))\n",
    "                  \n",
    "result = 'Customer name is shithead Mr.{0}. The total order value for Mr. {0} is ${1}.'\n",
    "result.format(user_name, order_value)"
   ]
  },
  {
   "cell_type": "code",
   "execution_count": null,
   "metadata": {},
   "outputs": [],
   "source": [
    "# .format() by named index or key\n",
    "user_name = 'Dirty Bill Gates'\n",
    "order_value = int(input('Please enter the order value : '))\n",
    "result = 'Customer name is p.o.s. Mr.{name}. The total order value for Mr. {name} is ${value}.'\n",
    "result.format(name=user_name, value=order_value)\n"
   ]
  },
  {
   "cell_type": "code",
   "execution_count": null,
   "metadata": {},
   "outputs": [],
   "source": [
    "# simple if statement\n",
    "salary = int(input('Please enter your salary : '))\n",
    "if salary >= 5000:\n",
    "    print(\"Congrats you home loan is approved!!!\")\n",
    "else:\n",
    "    print('Sorry bro you need a better job.:/')   \n",
    "    "
   ]
  },
  {
   "cell_type": "code",
   "execution_count": null,
   "metadata": {},
   "outputs": [],
   "source": [
    "#short hand if else statement, not recommended\n",
    "salary = int(input('Please enter your salary : '))\n",
    "print('Your loan was approved!') if salary >= 5000 else print('Loan Declined')"
   ]
  },
  {
   "cell_type": "code",
   "execution_count": null,
   "metadata": {},
   "outputs": [],
   "source": [
    "#salary: accept the input\n",
    "salary = int(input('Please enter your salary : '))\n",
    "age = int(input('Please enter your age : '))\n",
    "#print(\"\")\n",
    "if salary >= 7000 and age >= 45:\n",
    "    print('Auto Approved.')\n",
    "else:\n",
    "    print('Approved Manually.')\n"
   ]
  },
  {
   "cell_type": "code",
   "execution_count": null,
   "metadata": {},
   "outputs": [],
   "source": [
    "#check the membership of a string using if statement\n",
    "string = 'Python programming is fun.'\n",
    "sub = input('Please enter the keyword to search : ')\n",
    "print('')\n",
    "if sub in string:\n",
    "    print('The search results are positive. ')\n",
    "else:\n",
    "    print(\"Word or phrase NOT FOUND\")"
   ]
  },
  {
   "cell_type": "code",
   "execution_count": null,
   "metadata": {},
   "outputs": [],
   "source": [
    "#While loop example\n",
    "i = 0\n",
    "while i < 10:\n",
    "    print(i)\n",
    "    i += 2"
   ]
  },
  {
   "cell_type": "code",
   "execution_count": null,
   "metadata": {},
   "outputs": [],
   "source": [
    "#while loop boolean set to false\n",
    "i = 0\n",
    "var1 = True\n",
    "#while i < 10:\n",
    "while var1:\n",
    "    print(i)\n",
    "    i += 2\n",
    "    \n",
    "    if i >= 10:\n",
    "        var1 = False"
   ]
  },
  {
   "cell_type": "code",
   "execution_count": null,
   "metadata": {},
   "outputs": [],
   "source": [
    "#for loop\n",
    "name = input('Please enter the name : ')\n",
    "i = 1\n",
    "for letters in name:\n",
    "    print('Character number {} is {}'.format(i, letters))\n",
    "    i += 1"
   ]
  },
  {
   "cell_type": "code",
   "execution_count": null,
   "metadata": {},
   "outputs": [],
   "source": [
    "#for loop in a range\n",
    "name = input('Please enter the word : ')\n",
    "# i goes from 0 index until the end of the string\n",
    "length = len(name)\n",
    "for i in range(0, length, 1):\n",
    "    print('Character number {} is {} '.format(i+1, name[i]))"
   ]
  },
  {
   "cell_type": "code",
   "execution_count": null,
   "metadata": {},
   "outputs": [],
   "source": [
    "# nested fo loops\n",
    "#i, j for cross table numbers\n",
    "for i in range(1,20,1):\n",
    "    #print('')\n",
    "    for j in range(1,11,1):\n",
    "        result = i*j\n",
    "        print(result, end=' ')\n"
   ]
  },
  {
   "cell_type": "code",
   "execution_count": null,
   "metadata": {},
   "outputs": [],
   "source": [
    "#print a table using for loop and then a break\n",
    "for i in range(1,20,1):\n",
    "    \n",
    "    if i > 10:\n",
    "        break\n",
    "    for j in range(1,11,1):\n",
    "        result = i*j\n",
    "        print(result, end=' ')\n",
    "    #print('')"
   ]
  },
  {
   "cell_type": "code",
   "execution_count": null,
   "metadata": {},
   "outputs": [],
   "source": [
    "0.1 + 0.1 == 0.2"
   ]
  },
  {
   "cell_type": "code",
   "execution_count": null,
   "metadata": {},
   "outputs": [],
   "source": [
    "0.1 + 0.1 is 0.2"
   ]
  },
  {
   "cell_type": "code",
   "execution_count": null,
   "metadata": {},
   "outputs": [],
   "source": [
    "#if in a list\n",
    "#works for a string but not for int object in list\n",
    "\n",
    "my_list = [1, 2, 3, 4, 5, 'sarah', 'mike', 'ralph']\n",
    "slist = input('Please enter a name or number to search : ')\n",
    "if slist in my_list:\n",
    "    print('We have found a name or number you searched for.')\n",
    "else:\n",
    "    print('We have not found the name or number specified.')\n",
    "    "
   ]
  },
  {
   "cell_type": "code",
   "execution_count": null,
   "metadata": {},
   "outputs": [],
   "source": [
    "#assigning functions to variables in oop\n",
    "class Customer:\n",
    "    def __init__(self, name, membership_type):\n",
    "        self.name = name\n",
    "        self.membership_type = membership_type\n",
    "        print('customer created')\n",
    "        \n",
    "cust = Customer('Caleb', 'Gold')\n",
    "print(cust.name, cust.membership_type)\n",
    "\n",
    "cust2 = Customer('Brad', 'Bronze')\n",
    "print(cust2.name, cust2.membership_type)"
   ]
  },
  {
   "cell_type": "code",
   "execution_count": null,
   "metadata": {},
   "outputs": [],
   "source": [
    "# More OOP\n",
    "class Customer:\n",
    "    def __init__(self, name, membership_type):\n",
    "        self.name = name\n",
    "        self.membership_type = membership_type\n",
    "        print('customer created')\n",
    "    def update_membership(self, new_membership):\n",
    "        print('Calculating costs')\n",
    "        #invoke an API\n",
    "        #update a database\n",
    "        #charge the customer\n",
    "        #pretty much anything else\n",
    "        self.membership_type = new_membership\n",
    "    def read_customer():\n",
    "        print('Reading customer from DB')\n",
    "    def __str__(self):\n",
    "        print(\"converting to string\")\n",
    "        return self.name + \" \" + self.membership_type\n",
    "    def print_all_customers(customers):\n",
    "        for customer in customers:\n",
    "            print(customer)\n",
    "    def __eq__(self, other):\n",
    "        if self.name == other.name and self.membership_type ==  other.membership_type:\n",
    "            return True\n",
    "        return False\n",
    "    #__hash__ == None\n",
    "    #__repr__ == __str__\n",
    "customers = [Customer('Caleb', 'Gold'), \n",
    "             Customer('Brad', 'Bronze')]\n",
    "print(customers)\n",
    "print(customers[1].membership_type)\n",
    "customers[1].update_membership('Gold')\n",
    "print(customers[1].membership_type)\n",
    "print(customers[1])\n",
    "#customers[0].read_customer()    ...not invocable because we do not have self in this function\n",
    "Customer.read_customer() #Static method, invoking the class not the function???\n",
    "Customer.print_all_customers(customers) #Static method invoking the class not the func\n",
    "\n"
   ]
  },
  {
   "cell_type": "code",
   "execution_count": null,
   "metadata": {},
   "outputs": [],
   "source": [
    "#OOP getter and setter\n",
    "class User:\n",
    "    def log(self):\n",
    "        print(self)\n",
    "        \n",
    "class Customer(User):\n",
    "    def __init__(self, name, membership_type):\n",
    "        self.name = name\n",
    "        self.membership_type = membership_type\n",
    "        #print('customer created')\n",
    "    @property\n",
    "    def name(self):\n",
    "        print(\"getting name\")\n",
    "        return self._name\n",
    "    @name.setter\n",
    "    def name(self, name):\n",
    "        print(\"setting name\")\n",
    "        self._name = name\n",
    "        \n",
    "    def update_membership(self, new_membership):\n",
    "        print('Calculating costs')\n",
    "        #invoke an API\n",
    "        #update a database\n",
    "        #charge the customer\n",
    "        #pretty much anything else\n",
    "        self.membership_type = new_membership\n",
    "    def read_customer():\n",
    "        print('Reading customer from DB')\n",
    "    def __str__(self):\n",
    "        print(\"converting to string\")\n",
    "        return self.name + \" \" + self.membership_type\n",
    "    def print_all_customers(customers):\n",
    "        for customer in customers:\n",
    "            print(customer)\n",
    "    def __eq__(self, other):\n",
    "        if self.name == other.name and self.membership_type ==  other.membership_type:\n",
    "            return True\n",
    "        return False\n",
    "    #__hash__ == None\n",
    "    #__repr__ == __str__\n",
    "customers = [Customer('Caleb', 'Gold'), \n",
    "             Customer('Brad', 'Bronze')]\n",
    "print(customers)\n",
    "print(customers[1].membership_type)\n",
    "customers[0].log()"
   ]
  },
  {
   "cell_type": "code",
   "execution_count": null,
   "metadata": {},
   "outputs": [],
   "source": [
    "varT = True\n",
    "num_list = []\n",
    "# accept the list elements until user enters zero\n",
    "while varT:\n",
    "    num = int(input(\"Please enter a number or 0 to end. : \"))\n",
    "    \n",
    "    if num == 0:\n",
    "        varT = False\n",
    "    else:\n",
    "        num_list.append(num)"
   ]
  },
  {
   "cell_type": "code",
   "execution_count": null,
   "metadata": {},
   "outputs": [],
   "source": [
    "num_list = [10, 20, 45]\n",
    "snum = int(input(\"Please enter the number to search for : \"))\n",
    "position = num_list.index(snum)\n",
    "print(\"We have found the number {} at index position {}\".format(snum, position))"
   ]
  },
  {
   "cell_type": "code",
   "execution_count": null,
   "metadata": {},
   "outputs": [],
   "source": [
    "# Access elements of a multidimensional list\n",
    "list1 = [[20, 15], 42, \"Frank\", 55]\n",
    "\n",
    "#sublist = list1[0]\n",
    "#sublist[1]\n",
    "# the following way is the best way to access the list instead\n",
    "#of using a sublist\n",
    "list1[2][1:5]"
   ]
  },
  {
   "cell_type": "code",
   "execution_count": null,
   "metadata": {},
   "outputs": [],
   "source": [
    "# Access elements of a multidimensional list another example\n",
    "list1 = [[[20, 15],[65, 12]], 42, \"Frank\", 55]\n",
    "list1[0][1][1]"
   ]
  },
  {
   "cell_type": "code",
   "execution_count": null,
   "metadata": {},
   "outputs": [],
   "source": [
    "# Access elements of a multidimensional list another example\n",
    "list1 = [[[20, 15],[\"Betty\"]], 42, \"Frank\", 55]\n",
    "list1[0][1]"
   ]
  },
  {
   "cell_type": "code",
   "execution_count": null,
   "metadata": {},
   "outputs": [],
   "source": [
    "# Dicts in Python appending dict and del dict\n",
    "# Define and initialise a dict\n",
    "address = {'Street' : '180 Adams Court',\n",
    "          'City' : 'Chicago',\n",
    "          'State' : 'Il',\n",
    "          'Country' : 'USA'}\n",
    "#print(address['Street'])\n",
    "# Add and update the key-value pair\n",
    "# address['Street'] = '181 Adams Circle'\n",
    "# address['Zip'] = '60606'\n",
    "\n",
    "# # Delete a key-value pair\n",
    "# del address['City']\n",
    "address['Street'] = '181 Adams Circle'\n",
    "print(address['Street'])\n",
    "print(address)"
   ]
  },
  {
   "cell_type": "code",
   "execution_count": null,
   "metadata": {},
   "outputs": [],
   "source": [
    "address['Zip'] = '60606'\n",
    "print(address)"
   ]
  },
  {
   "cell_type": "code",
   "execution_count": null,
   "metadata": {},
   "outputs": [],
   "source": [
    "del address['Street']\n",
    "print(address)"
   ]
  },
  {
   "cell_type": "code",
   "execution_count": null,
   "metadata": {},
   "outputs": [],
   "source": [
    "len(address)"
   ]
  },
  {
   "cell_type": "code",
   "execution_count": null,
   "metadata": {},
   "outputs": [],
   "source": [
    "address.keys()"
   ]
  },
  {
   "cell_type": "code",
   "execution_count": null,
   "metadata": {},
   "outputs": [],
   "source": [
    "values = list(address.values())\n",
    "print(values)"
   ]
  },
  {
   "cell_type": "code",
   "execution_count": null,
   "metadata": {},
   "outputs": [],
   "source": [
    "\n",
    "keys = list(address.keys())\n",
    "print(keys)"
   ]
  },
  {
   "cell_type": "code",
   "execution_count": null,
   "metadata": {},
   "outputs": [],
   "source": [
    "keys[2:3]"
   ]
  },
  {
   "cell_type": "code",
   "execution_count": null,
   "metadata": {},
   "outputs": [],
   "source": [
    "keys[::-1]"
   ]
  },
  {
   "cell_type": "code",
   "execution_count": null,
   "metadata": {},
   "outputs": [],
   "source": [
    "keys[3]"
   ]
  },
  {
   "cell_type": "code",
   "execution_count": null,
   "metadata": {},
   "outputs": [],
   "source": [
    "#make a phonebook list\n",
    "# Initialise the variables\n",
    "varT = True\n",
    "sublist = []\n",
    "phonebook = []\n",
    "# Run the loop, Create an outlined structure first.\n",
    "while varT:\n",
    "    print(\"\")\n",
    "    print(\"          Welcome to the Phonebook             \")\n",
    "    print(\"-----------------------------------------------\")\n",
    "    print(\"   Please choose one of the options below.\")\n",
    "    print(\"   A - To add a contact\")\n",
    "    print(\"   S - To Search a contact\")\n",
    "    print(\"   E - To Exit the Phonebook\")\n",
    "    \n",
    "    option = input(\"Option : \")\n",
    "    \n",
    "    if option == \"E\":\n",
    "        varT = False\n",
    "        \n",
    "    elif option == \"A\":\n",
    "        name  = input(\"Please enter the name     : \")\n",
    "        num   = input(\"Please enter the number   : \")\n",
    "        email = input(\"Please enter the email ID : \")\n",
    "        \n",
    "        sublist = [name, num, email]\n",
    "        \n",
    "        phonebook.append(sublist)\n",
    "        print(\"The contact {} has been added successfully.\".format(name))\n",
    "        \n",
    "    elif option == \"S\":\n",
    "        sname = input(\"Please enter the name to search for : \")\n",
    "        found = False\n",
    "        \n",
    "        for sublist in phonebook:\n",
    "            if sname in sublist:\n",
    "                print(\"{} is in the phonebook here are the details.\".format(sname))\n",
    "                print(sublist)\n",
    "                found = True\n",
    "                \n",
    "        if not found:\n",
    "            print(\"I'm sorry {} is not found in the phonebook.\".format(sname))\n",
    "            \n",
    "        \n",
    "    else:\n",
    "        print(\"Sorry, you have a chosen a wrong action. \")\n",
    "        "
   ]
  },
  {
   "cell_type": "code",
   "execution_count": null,
   "metadata": {},
   "outputs": [],
   "source": []
  }
 ],
 "metadata": {
  "kernelspec": {
   "display_name": "Python 3",
   "language": "python",
   "name": "python3"
  },
  "language_info": {
   "codemirror_mode": {
    "name": "ipython",
    "version": 3
   },
   "file_extension": ".py",
   "mimetype": "text/x-python",
   "name": "python",
   "nbconvert_exporter": "python",
   "pygments_lexer": "ipython3",
   "version": "3.8.5"
  }
 },
 "nbformat": 4,
 "nbformat_minor": 4
}
